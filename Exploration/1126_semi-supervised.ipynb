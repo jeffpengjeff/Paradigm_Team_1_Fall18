{
 "cells": [
  {
   "cell_type": "code",
   "execution_count": 112,
   "metadata": {},
   "outputs": [
    {
     "name": "stdout",
     "output_type": "stream",
     "text": [
      "Automatically created module for IPython interactive environment\n"
     ]
    }
   ],
   "source": [
    "print(__doc__)"
   ]
  },
  {
   "cell_type": "code",
   "execution_count": 113,
   "metadata": {},
   "outputs": [],
   "source": [
    "import numpy as np\n",
    "import pandas as pd\n",
    "import matplotlib.pyplot as plt\n",
    "from sklearn import datasets\n",
    "from sklearn import svm\n",
    "from sklearn.semi_supervised import label_propagation"
   ]
  },
  {
   "cell_type": "code",
   "execution_count": 114,
   "metadata": {},
   "outputs": [
    {
     "data": {
      "text/html": [
       "<div>\n",
       "<style scoped>\n",
       "    .dataframe tbody tr th:only-of-type {\n",
       "        vertical-align: middle;\n",
       "    }\n",
       "\n",
       "    .dataframe tbody tr th {\n",
       "        vertical-align: top;\n",
       "    }\n",
       "\n",
       "    .dataframe thead th {\n",
       "        text-align: right;\n",
       "    }\n",
       "</style>\n",
       "<table border=\"1\" class=\"dataframe\">\n",
       "  <thead>\n",
       "    <tr style=\"text-align: right;\">\n",
       "      <th></th>\n",
       "      <th>author</th>\n",
       "      <th>contents</th>\n",
       "      <th>description</th>\n",
       "      <th>J_label</th>\n",
       "      <th>publisher</th>\n",
       "      <th>source_url</th>\n",
       "      <th>title</th>\n",
       "      <th>Open</th>\n",
       "      <th>High</th>\n",
       "      <th>Low</th>\n",
       "      <th>...</th>\n",
       "      <th>Average</th>\n",
       "      <th>Volatility</th>\n",
       "      <th>SD</th>\n",
       "      <th>publisherLabel</th>\n",
       "      <th>Mark</th>\n",
       "      <th>tfidf</th>\n",
       "      <th>publisher_L</th>\n",
       "      <th>author_L</th>\n",
       "      <th>score_sentiment</th>\n",
       "      <th>magnitude_sentiment</th>\n",
       "    </tr>\n",
       "  </thead>\n",
       "  <tbody>\n",
       "    <tr>\n",
       "      <th>0</th>\n",
       "      <td>Financial Times</td>\n",
       "      <td>merryn somerset webb over past year overall cu...</td>\n",
       "      <td>It’s pretty, it’s useful and you don’t need a ...</td>\n",
       "      <td>0.0</td>\n",
       "      <td>Financial Times</td>\n",
       "      <td>https://www.ft.com/content/d89e5386-074a-11e8-...</td>\n",
       "      <td>Forget bitcoin, give me old-fashioned gold as ...</td>\n",
       "      <td>8547.864403</td>\n",
       "      <td>8562.224306</td>\n",
       "      <td>8533.223049</td>\n",
       "      <td>...</td>\n",
       "      <td>12603.49354</td>\n",
       "      <td>433909.3344</td>\n",
       "      <td>2087.647258</td>\n",
       "      <td>364</td>\n",
       "      <td>0.0</td>\n",
       "      <td>1.05975</td>\n",
       "      <td>3.0</td>\n",
       "      <td>3.0</td>\n",
       "      <td>0.8</td>\n",
       "      <td>0.8</td>\n",
       "    </tr>\n",
       "    <tr>\n",
       "      <th>1</th>\n",
       "      <td>Tom Rees</td>\n",
       "      <td>bitcoin value crashed bn week plunge extended ...</td>\n",
       "      <td>A total of $50bn has been wiped off Bitcoin's ...</td>\n",
       "      <td>-1.0</td>\n",
       "      <td>The Telegraph</td>\n",
       "      <td>http://www.telegraph.co.uk/business/2018/02/02...</td>\n",
       "      <td>Bitcoin extends freefall as over $50bn is wipe...</td>\n",
       "      <td>8547.864403</td>\n",
       "      <td>8562.224306</td>\n",
       "      <td>8533.223049</td>\n",
       "      <td>...</td>\n",
       "      <td>12603.49354</td>\n",
       "      <td>433909.3344</td>\n",
       "      <td>2087.647258</td>\n",
       "      <td>1002</td>\n",
       "      <td>0.0</td>\n",
       "      <td>0.61500</td>\n",
       "      <td>1.0</td>\n",
       "      <td>0.0</td>\n",
       "      <td>-0.1</td>\n",
       "      <td>0.1</td>\n",
       "    </tr>\n",
       "    <tr>\n",
       "      <th>2</th>\n",
       "      <td>Vishal Aaditya Kundu</td>\n",
       "      <td>trak trak popular indian business technology m...</td>\n",
       "      <td>The focus on cybersecurity shows the support f...</td>\n",
       "      <td>0.0</td>\n",
       "      <td>Trak.in</td>\n",
       "      <td>http://trak.in/tags/business/2018/02/02/govern...</td>\n",
       "      <td>Government Ready To Take Up Serious Cybersecur...</td>\n",
       "      <td>8547.864403</td>\n",
       "      <td>8562.224306</td>\n",
       "      <td>8533.223049</td>\n",
       "      <td>...</td>\n",
       "      <td>12603.49354</td>\n",
       "      <td>433909.3344</td>\n",
       "      <td>2087.647258</td>\n",
       "      <td>1090</td>\n",
       "      <td>0.0</td>\n",
       "      <td>0.29510</td>\n",
       "      <td>1.0</td>\n",
       "      <td>0.0</td>\n",
       "      <td>0.6</td>\n",
       "      <td>0.6</td>\n",
       "    </tr>\n",
       "    <tr>\n",
       "      <th>3</th>\n",
       "      <td>CoinTelegraph By William Suberg</td>\n",
       "      <td>cointelegraph bitcoin hits multi month low cry...</td>\n",
       "      <td>Bitcoin hits multi-month low, cryptocurrency m...</td>\n",
       "      <td>-1.0</td>\n",
       "      <td>Cointelegraph.com</td>\n",
       "      <td>https://cointelegraph.com/news/bitcoin-hits-mu...</td>\n",
       "      <td>Bitcoin Hits Multi-Month Low As Mainstream Med...</td>\n",
       "      <td>8547.864403</td>\n",
       "      <td>8562.224306</td>\n",
       "      <td>8533.223049</td>\n",
       "      <td>...</td>\n",
       "      <td>12603.49354</td>\n",
       "      <td>433909.3344</td>\n",
       "      <td>2087.647258</td>\n",
       "      <td>199</td>\n",
       "      <td>0.0</td>\n",
       "      <td>0.41481</td>\n",
       "      <td>3.0</td>\n",
       "      <td>1.0</td>\n",
       "      <td>-0.5</td>\n",
       "      <td>0.5</td>\n",
       "    </tr>\n",
       "    <tr>\n",
       "      <th>4</th>\n",
       "      <td>Felecia Genêt</td>\n",
       "      <td>i phrase deserves exist it probably inspired m...</td>\n",
       "      <td>A look into if cryptocurrencies even deserve t...</td>\n",
       "      <td>0.0</td>\n",
       "      <td>Medium.com</td>\n",
       "      <td>https://medium.com/the-mission/the-objective-r...</td>\n",
       "      <td>The Objective-Realist vs. the Crypto-Evangelist.</td>\n",
       "      <td>8547.864403</td>\n",
       "      <td>8562.224306</td>\n",
       "      <td>8533.223049</td>\n",
       "      <td>...</td>\n",
       "      <td>12603.49354</td>\n",
       "      <td>433909.3344</td>\n",
       "      <td>2087.647258</td>\n",
       "      <td>659</td>\n",
       "      <td>0.0</td>\n",
       "      <td>0.97797</td>\n",
       "      <td>1.0</td>\n",
       "      <td>0.0</td>\n",
       "      <td>-0.2</td>\n",
       "      <td>0.2</td>\n",
       "    </tr>\n",
       "  </tbody>\n",
       "</table>\n",
       "<p>5 rows × 24 columns</p>\n",
       "</div>"
      ],
      "text/plain": [
       "                            author  \\\n",
       "0                  Financial Times   \n",
       "1                         Tom Rees   \n",
       "2             Vishal Aaditya Kundu   \n",
       "3  CoinTelegraph By William Suberg   \n",
       "4                    Felecia Genêt   \n",
       "\n",
       "                                            contents  \\\n",
       "0  merryn somerset webb over past year overall cu...   \n",
       "1  bitcoin value crashed bn week plunge extended ...   \n",
       "2  trak trak popular indian business technology m...   \n",
       "3  cointelegraph bitcoin hits multi month low cry...   \n",
       "4  i phrase deserves exist it probably inspired m...   \n",
       "\n",
       "                                         description  J_label  \\\n",
       "0  It’s pretty, it’s useful and you don’t need a ...      0.0   \n",
       "1  A total of $50bn has been wiped off Bitcoin's ...     -1.0   \n",
       "2  The focus on cybersecurity shows the support f...      0.0   \n",
       "3  Bitcoin hits multi-month low, cryptocurrency m...     -1.0   \n",
       "4  A look into if cryptocurrencies even deserve t...      0.0   \n",
       "\n",
       "           publisher                                         source_url  \\\n",
       "0    Financial Times  https://www.ft.com/content/d89e5386-074a-11e8-...   \n",
       "1      The Telegraph  http://www.telegraph.co.uk/business/2018/02/02...   \n",
       "2            Trak.in  http://trak.in/tags/business/2018/02/02/govern...   \n",
       "3  Cointelegraph.com  https://cointelegraph.com/news/bitcoin-hits-mu...   \n",
       "4         Medium.com  https://medium.com/the-mission/the-objective-r...   \n",
       "\n",
       "                                               title         Open  \\\n",
       "0  Forget bitcoin, give me old-fashioned gold as ...  8547.864403   \n",
       "1  Bitcoin extends freefall as over $50bn is wipe...  8547.864403   \n",
       "2  Government Ready To Take Up Serious Cybersecur...  8547.864403   \n",
       "3  Bitcoin Hits Multi-Month Low As Mainstream Med...  8547.864403   \n",
       "4   The Objective-Realist vs. the Crypto-Evangelist.  8547.864403   \n",
       "\n",
       "          High          Low         ...               Average   Volatility  \\\n",
       "0  8562.224306  8533.223049         ...           12603.49354  433909.3344   \n",
       "1  8562.224306  8533.223049         ...           12603.49354  433909.3344   \n",
       "2  8562.224306  8533.223049         ...           12603.49354  433909.3344   \n",
       "3  8562.224306  8533.223049         ...           12603.49354  433909.3344   \n",
       "4  8562.224306  8533.223049         ...           12603.49354  433909.3344   \n",
       "\n",
       "            SD  publisherLabel  Mark    tfidf publisher_L author_L  \\\n",
       "0  2087.647258             364   0.0  1.05975         3.0      3.0   \n",
       "1  2087.647258            1002   0.0  0.61500         1.0      0.0   \n",
       "2  2087.647258            1090   0.0  0.29510         1.0      0.0   \n",
       "3  2087.647258             199   0.0  0.41481         3.0      1.0   \n",
       "4  2087.647258             659   0.0  0.97797         1.0      0.0   \n",
       "\n",
       "   score_sentiment  magnitude_sentiment  \n",
       "0              0.8                  0.8  \n",
       "1             -0.1                  0.1  \n",
       "2              0.6                  0.6  \n",
       "3             -0.5                  0.5  \n",
       "4             -0.2                  0.2  \n",
       "\n",
       "[5 rows x 24 columns]"
      ]
     },
     "execution_count": 114,
     "metadata": {},
     "output_type": "execute_result"
    }
   ],
   "source": [
    "df0=pd.read_csv('1124_Added_J_Labels_New_marked_news.csv')\n",
    "df0=df0.drop(['date','time','Date_x','Date_y','Unnamed: 0'],axis=1)\n",
    "df1=pd.read_csv('news_score.1csv.csv')\n",
    "df1=df1[['author','publisher','title','tfidf','source_url','publisher_L' ,'author_L' ,'score_sentiment', 'magnitude_sentiment']]\n",
    "df0=df0.dropna()\n",
    "df=pd.merge(df0,df1, on=['author','publisher','title','source_url'] )\n",
    "df=df.drop_duplicates()\n",
    "df.head()"
   ]
  },
  {
   "cell_type": "code",
   "execution_count": 115,
   "metadata": {},
   "outputs": [
    {
     "name": "stdout",
     "output_type": "stream",
     "text": [
      "<class 'pandas.core.frame.DataFrame'>\n",
      "Int64Index: 138 entries, 0 to 268\n",
      "Data columns (total 24 columns):\n",
      "author                 138 non-null object\n",
      "contents               138 non-null object\n",
      "description            138 non-null object\n",
      "J_label                138 non-null float64\n",
      "publisher              138 non-null object\n",
      "source_url             138 non-null object\n",
      "title                  138 non-null object\n",
      "Open                   138 non-null float64\n",
      "High                   138 non-null float64\n",
      "Low                    138 non-null float64\n",
      "Close                  138 non-null float64\n",
      "Volume_(BTC)           138 non-null float64\n",
      "Volume_(Currency)      138 non-null float64\n",
      "Weighted_Price         138 non-null float64\n",
      "Average                138 non-null float64\n",
      "Volatility             138 non-null float64\n",
      "SD                     138 non-null object\n",
      "publisherLabel         138 non-null object\n",
      "Mark                   138 non-null float64\n",
      "tfidf                  138 non-null float64\n",
      "publisher_L            138 non-null float64\n",
      "author_L               138 non-null float64\n",
      "score_sentiment        138 non-null float64\n",
      "magnitude_sentiment    138 non-null float64\n",
      "dtypes: float64(16), object(8)\n",
      "memory usage: 27.0+ KB\n"
     ]
    }
   ],
   "source": [
    "df.info()"
   ]
  },
  {
   "cell_type": "code",
   "execution_count": 116,
   "metadata": {},
   "outputs": [],
   "source": [
    "rng = np.random.RandomState(0)"
   ]
  },
  {
   "cell_type": "code",
   "execution_count": 117,
   "metadata": {},
   "outputs": [],
   "source": [
    "X=df[['publisher_L','author_L']]\n",
    "y=df['J_label']\n",
    "\n"
   ]
  },
  {
   "cell_type": "code",
   "execution_count": 118,
   "metadata": {},
   "outputs": [],
   "source": [
    "# step size in the mesh\n",
    "h = .2"
   ]
  },
  {
   "cell_type": "code",
   "execution_count": 119,
   "metadata": {},
   "outputs": [],
   "source": [
    "y_30 = np.copy(y)\n",
    "y_30[rng.rand(len(y)) < 0.3] = -1\n",
    "y_50 = np.copy(y)\n",
    "y_50[rng.rand(len(y)) < 0.5] = -1\n",
    "# we create an instance of SVM and fit out data. We do not scale our\n",
    "# data since we want to plot the support vectors\n",
    "ls30 = (label_propagation.LabelSpreading().fit(X, y_30),\n",
    "        y_30)\n",
    "ls50 = (label_propagation.LabelSpreading().fit(X, y_50),\n",
    "        y_50)\n",
    "ls100 = (label_propagation.LabelSpreading().fit(X, y), y)\n",
    "rbf_svc = (svm.SVC(kernel='rbf', gamma=.5).fit(X, y), y)"
   ]
  },
  {
   "cell_type": "code",
   "execution_count": 120,
   "metadata": {},
   "outputs": [],
   "source": [
    "# create a mesh to plot in\n",
    "x_min, x_max = X.values[:, 0].min() - 1, X.values[:, 0].max() + 1\n",
    "y_min, y_max = X.values[:, 1].min() - 1, X.values[:, 1].max() + 1\n",
    "\n",
    "xx, yy = np.meshgrid(np.arange(x_min, x_max, h),\n",
    "                     np.arange(y_min, y_max, h))"
   ]
  },
  {
   "cell_type": "code",
   "execution_count": 121,
   "metadata": {},
   "outputs": [
    {
     "data": {
      "image/png": "[encoded data removed]",
      "text/plain": [
       "<Figure size 432x288 with 4 Axes>"
      ]
     },
     "metadata": {},
     "output_type": "display_data"
    }
   ],
   "source": [
    "# title for the plots\n",
    "titles = ['Label Spreading 30% data',\n",
    "          'Label Spreading 50% data',\n",
    "          'Label Spreading 100% data',\n",
    "          'SVC with rbf kernel']\n",
    "\n",
    "color_map = {-1: (1, 1, 1), 0: (0, 0, .9), 1: (1, 0, 0), 2:(0.8, 0.6, 0)}\n",
    "\n",
    "for i, (clf, y_train) in enumerate((ls30, ls50, ls100, rbf_svc)):\n",
    "    # Plot the decision boundary. For that, we will assign a color to each\n",
    "    # point in the mesh [x_min, x_max]x[y_min, y_max].\n",
    "    plt.subplot(2, 2, i + 1)\n",
    "    Z = clf.predict(np.c_[xx.ravel(), yy.ravel()])\n",
    "\n",
    "    # Put the result into a color plot\n",
    "    Z = Z.reshape(xx.shape)\n",
    "    plt.contourf(xx, yy, Z, cmap=plt.cm.Paired)\n",
    "    plt.axis('off')\n",
    "\n",
    "    # Plot also the training points\n",
    "    colors = [color_map[y] for y in y_train]\n",
    "    plt.scatter(X.iloc[:, 0], X.iloc[:, 1], c=colors, edgecolors='black')\n",
    "\n",
    "    plt.title(titles[i])\n",
    "\n",
    "plt.suptitle(\"Unlabeled points are colored white\", y=0.1)\n",
    "plt.show()"
   ]
  },
  {
   "cell_type": "code",
   "execution_count": 122,
   "metadata": {},
   "outputs": [],
   "source": [
    "X=df[['score_sentiment','magnitude_sentiment']]\n",
    "y=df['J_label']\n",
    "\n"
   ]
  },
  {
   "cell_type": "code",
   "execution_count": 123,
   "metadata": {},
   "outputs": [],
   "source": [
    "h = .2"
   ]
  },
  {
   "cell_type": "code",
   "execution_count": 124,
   "metadata": {},
   "outputs": [],
   "source": [
    "y_30 = np.copy(y)\n",
    "y_30[rng.rand(len(y)) < 0.3] = -1\n",
    "y_50 = np.copy(y)\n",
    "y_50[rng.rand(len(y)) < 0.5] = -1\n",
    "# we create an instance of SVM and fit out data. We do not scale our\n",
    "# data since we want to plot the support vectors\n",
    "ls30 = (label_propagation.LabelSpreading().fit(X, y_30),\n",
    "        y_30)\n",
    "ls50 = (label_propagation.LabelSpreading().fit(X, y_50),\n",
    "        y_50)\n",
    "ls100 = (label_propagation.LabelSpreading().fit(X, y), y)\n",
    "rbf_svc = (svm.SVC(kernel='rbf', gamma=.5).fit(X, y), y)"
   ]
  },
  {
   "cell_type": "code",
   "execution_count": 125,
   "metadata": {},
   "outputs": [],
   "source": [
    "# create a mesh to plot in\n",
    "x_min, x_max = X.values[:, 0].min() - 1, X.values[:, 0].max() + 1\n",
    "y_min, y_max = X.values[:, 1].min() - 1, X.values[:, 1].max() + 1\n",
    "\n",
    "xx, yy = np.meshgrid(np.arange(x_min, x_max, h),\n",
    "                     np.arange(y_min, y_max, h))"
   ]
  },
  {
   "cell_type": "code",
   "execution_count": 126,
   "metadata": {},
   "outputs": [
    {
     "data": {
      "image/png": "[encoded data removed]",
      "text/plain": [
       "<Figure size 432x288 with 4 Axes>"
      ]
     },
     "metadata": {},
     "output_type": "display_data"
    }
   ],
   "source": [
    "# title for the plots\n",
    "titles = ['Label Spreading 30% data',\n",
    "          'Label Spreading 50% data',\n",
    "          'Label Spreading 100% data',\n",
    "          'SVC with rbf kernel']\n",
    "\n",
    "color_map = {-1: (1, 1, 1), 0: (0, 0, .9), 1: (1, 0, 0), 2:(0.8, 0.6, 0)}\n",
    "\n",
    "for i, (clf, y_train) in enumerate((ls30, ls50, ls100, rbf_svc)):\n",
    "    # Plot the decision boundary. For that, we will assign a color to each\n",
    "    # point in the mesh [x_min, x_max]x[y_min, y_max].\n",
    "    plt.subplot(2, 2, i + 1)\n",
    "    Z = clf.predict(np.c_[xx.ravel(), yy.ravel()])\n",
    "\n",
    "    # Put the result into a color plot\n",
    "    Z = Z.reshape(xx.shape)\n",
    "    plt.contourf(xx, yy, Z, cmap=plt.cm.Paired)\n",
    "    plt.axis('off')\n",
    "\n",
    "    # Plot also the training points\n",
    "    colors = [color_map[y] for y in y_train]\n",
    "    plt.scatter(X.iloc[:, 0], X.iloc[:, 1], c=colors, edgecolors='black')\n",
    "\n",
    "    plt.title(titles[i])\n",
    "\n",
    "plt.suptitle(\"Unlabeled points are colored white\", y=0.1)\n",
    "plt.show()"
   ]
  },
  {
   "cell_type": "code",
   "execution_count": null,
   "metadata": {},
   "outputs": [],
   "source": []
  },
  {
   "cell_type": "code",
   "execution_count": null,
   "metadata": {},
   "outputs": [],
   "source": []
  },
  {
   "cell_type": "code",
   "execution_count": null,
   "metadata": {},
   "outputs": [],
   "source": []
  },
  {
   "cell_type": "code",
   "execution_count": null,
   "metadata": {},
   "outputs": [],
   "source": []
  }
 ],
 "metadata": {
  "kernelspec": {
   "display_name": "Python 3",
   "language": "python",
   "name": "python3"
  },
  "language_info": {
   "codemirror_mode": {
    "name": "ipython",
    "version": 3
   },
   "file_extension": ".py",
   "mimetype": "text/x-python",
   "name": "python",
   "nbconvert_exporter": "python",
   "pygments_lexer": "ipython3",
   "version": "3.6.5"
  }
 },
 "nbformat": 4,
 "nbformat_minor": 2
}
