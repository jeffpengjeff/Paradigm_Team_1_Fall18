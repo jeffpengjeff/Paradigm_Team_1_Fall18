{
 "cells": [
  {
   "cell_type": "code",
   "execution_count": 1,
   "metadata": {
    "ExecuteTime": {
     "end_time": "2018-11-16T22:04:41.819783Z",
     "start_time": "2018-11-16T22:04:37.896365Z"
    }
   },
   "outputs": [],
   "source": [
    "import pandas as pd\n",
    "from pandas import DataFrame\n",
    "import numpy as np\n",
    "import datetime as dt\n",
    "from datetime import datetime,tzinfo\n",
    "from pytz import timezone\n",
    "import time\n",
    "import pytz\n",
    "import matplotlib.pyplot as plt\n",
    "import csv\n",
    "df_1= pd.read_csv('Coinbase/coinbase_Part1.csv')\n",
    "df_2 = pd.read_csv('Coinbase/coinbase_Part2.csv')\n",
    "frames = [df_1, df_2]\n",
    "df = pd.concat(frames, ignore_index=True)"
   ]
  },
  {
   "cell_type": "code",
   "execution_count": 2,
   "metadata": {
    "ExecuteTime": {
     "end_time": "2018-11-16T22:04:45.399353Z",
     "start_time": "2018-11-16T22:04:42.033091Z"
    }
   },
   "outputs": [],
   "source": [
    "df_1= pd.read_csv('Coinbase/coinbase_Part1.csv')\n",
    "df_2 = pd.read_csv('Coinbase/coinbase_Part2.csv')\n",
    "frames = [df_1, df_2]\n",
    "df = pd.concat(frames, ignore_index=True)"
   ]
  },
  {
   "cell_type": "code",
   "execution_count": 3,
   "metadata": {
    "ExecuteTime": {
     "end_time": "2018-11-16T22:04:45.725270Z",
     "start_time": "2018-11-16T22:04:45.643033Z"
    }
   },
   "outputs": [],
   "source": [
    "df.Timestamp = pd.to_datetime(df.Timestamp, unit='s')\n",
    "df.Timestamp = df.Timestamp.dt.tz_localize('UTC')"
   ]
  },
  {
   "cell_type": "code",
   "execution_count": 4,
   "metadata": {
    "ExecuteTime": {
     "end_time": "2018-11-16T22:04:47.226801Z",
     "start_time": "2018-11-16T22:04:45.954081Z"
    }
   },
   "outputs": [],
   "source": [
    "del df_1, df_2\n",
    "df['Date'] = pd.to_datetime(df['Timestamp']).dt.date\n",
    "df['Time'] = pd.to_datetime(df['Timestamp']).dt.time\n",
    "del df['Timestamp'] #Delete original datetime column"
   ]
  },
  {
   "cell_type": "code",
   "execution_count": 5,
   "metadata": {
    "ExecuteTime": {
     "end_time": "2018-11-16T22:04:48.842879Z",
     "start_time": "2018-11-16T22:04:47.407935Z"
    }
   },
   "outputs": [],
   "source": [
    "df.head()\n",
    "df['Hour'] = df.Time.apply(lambda x : x.hour)\n",
    "df['Minute'] = df.Time.apply(lambda x : x.minute)"
   ]
  },
  {
   "cell_type": "code",
   "execution_count": 6,
   "metadata": {
    "ExecuteTime": {
     "end_time": "2018-11-16T22:04:51.339123Z",
     "start_time": "2018-11-16T22:04:51.081158Z"
    }
   },
   "outputs": [
    {
     "data": {
      "text/html": [
       "<div>\n",
       "<style scoped>\n",
       "    .dataframe tbody tr th:only-of-type {\n",
       "        vertical-align: middle;\n",
       "    }\n",
       "\n",
       "    .dataframe tbody tr th {\n",
       "        vertical-align: top;\n",
       "    }\n",
       "\n",
       "    .dataframe thead th {\n",
       "        text-align: right;\n",
       "    }\n",
       "</style>\n",
       "<table border=\"1\" class=\"dataframe\">\n",
       "  <thead>\n",
       "    <tr style=\"text-align: right;\">\n",
       "      <th></th>\n",
       "      <th>price</th>\n",
       "    </tr>\n",
       "    <tr>\n",
       "      <th>Date</th>\n",
       "      <th></th>\n",
       "    </tr>\n",
       "  </thead>\n",
       "  <tbody>\n",
       "    <tr>\n",
       "      <th>2014-12-01</th>\n",
       "      <td>370.00</td>\n",
       "    </tr>\n",
       "    <tr>\n",
       "      <th>2014-12-02</th>\n",
       "      <td>378.00</td>\n",
       "    </tr>\n",
       "    <tr>\n",
       "      <th>2014-12-03</th>\n",
       "      <td>378.00</td>\n",
       "    </tr>\n",
       "    <tr>\n",
       "      <th>2015-01-08</th>\n",
       "      <td>289.25</td>\n",
       "    </tr>\n",
       "    <tr>\n",
       "      <th>2015-01-13</th>\n",
       "      <td>260.00</td>\n",
       "    </tr>\n",
       "  </tbody>\n",
       "</table>\n",
       "</div>"
      ],
      "text/plain": [
       "             price\n",
       "Date              \n",
       "2014-12-01  370.00\n",
       "2014-12-02  378.00\n",
       "2014-12-03  378.00\n",
       "2015-01-08  289.25\n",
       "2015-01-13  260.00"
      ]
     },
     "execution_count": 6,
     "metadata": {},
     "output_type": "execute_result"
    }
   ],
   "source": [
    "price3pmDF = df[(df.Hour == 15) & (df.Minute == 0)][['Date', 'Close']]\n",
    "price3pmDF.rename({'Close':'price'}, axis=1, inplace=True)\n",
    "price3pmDF.set_index('Date', inplace=True)\n",
    "price3pmDF.head()"
   ]
  },
  {
   "cell_type": "code",
   "execution_count": 25,
   "metadata": {
    "ExecuteTime": {
     "end_time": "2018-11-16T22:10:05.753129Z",
     "start_time": "2018-11-16T22:10:05.749434Z"
    }
   },
   "outputs": [],
   "source": [
    "startDate = datetime.date(dt.datetime.strptime('01/23/18', '%x'))\n",
    "endDate = datetime.date(dt.datetime.strptime('03/27/18', '%x'))"
   ]
  },
  {
   "cell_type": "code",
   "execution_count": 26,
   "metadata": {
    "ExecuteTime": {
     "end_time": "2018-11-16T22:10:06.059677Z",
     "start_time": "2018-11-16T22:10:06.053052Z"
    }
   },
   "outputs": [],
   "source": [
    "\n",
    "def computePriceDF (inputDF_, windowsize):\n",
    "    inputDF_['priceMean'] = inputDF_.price.rolling(windowsize).mean() \n",
    "    inputDF_['priceSD'] = inputDF_.price.rolling(windowsize).std()\n",
    "    inputDF_['priceDiff'] = inputDF_.price.diff() / inputDF_.price.shift(1)\n",
    "    inputDF_['diffMean'] = inputDF_.priceDiff.rolling(windowsize).mean()\n",
    "    inputDF_['diffSD'] = inputDF_.priceDiff.rolling(windowsize).std()\n",
    "    inputDF_ = inputDF_.loc[startDate : endDate]\n",
    "    return {'pricePosiDate':inputDF_[inputDF_.price - inputDF_.priceMean > 2 * inputDF_.priceSD].index,\n",
    "           'priceNegeDate': inputDF_[inputDF_.price - inputDF_.priceMean < -2 * inputDF_.priceSD].index,\n",
    "           'priceDiffPosiDate': inputDF_[inputDF_.priceDiff - inputDF_.diffMean > 2 * inputDF_.diffSD].index,\n",
    "           'priceDiffNegeDate':inputDF_[inputDF_.priceDiff - inputDF_.diffMean < -2 * inputDF_.diffSD].index}"
   ]
  },
  {
   "cell_type": "code",
   "execution_count": 27,
   "metadata": {
    "ExecuteTime": {
     "end_time": "2018-11-16T22:10:06.779143Z",
     "start_time": "2018-11-16T22:10:06.726283Z"
    }
   },
   "outputs": [
    {
     "name": "stdout",
     "output_type": "stream",
     "text": [
      "for windowsize of 30:\n",
      "{'pricePosiDate': Index([], dtype='object', name='Date'), 'priceNegeDate': Index([2018-02-05, 2018-03-15, 2018-03-17, 2018-03-18], dtype='object', name='Date'), 'priceDiffPosiDate': Index([2018-03-19], dtype='object', name='Date'), 'priceDiffNegeDate': Index([], dtype='object', name='Date')}\n",
      "==========================================\n",
      "for windowsize of 45:\n",
      "{'pricePosiDate': Index([], dtype='object', name='Date'), 'priceNegeDate': Index([2018-02-02, 2018-02-05, 2018-02-06], dtype='object', name='Date'), 'priceDiffPosiDate': Index([2018-03-19], dtype='object', name='Date'), 'priceDiffNegeDate': Index([], dtype='object', name='Date')}\n",
      "==========================================\n",
      "for windowsize of 60:\n",
      "{'pricePosiDate': Index([], dtype='object', name='Date'), 'priceNegeDate': Index([2018-02-02, 2018-02-05, 2018-02-06], dtype='object', name='Date'), 'priceDiffPosiDate': Index([2018-03-19], dtype='object', name='Date'), 'priceDiffNegeDate': Index([], dtype='object', name='Date')}\n",
      "==========================================\n",
      "for windowsize of 75:\n",
      "{'pricePosiDate': Index([], dtype='object', name='Date'), 'priceNegeDate': Index([], dtype='object', name='Date'), 'priceDiffPosiDate': Index([2018-03-19], dtype='object', name='Date'), 'priceDiffNegeDate': Index([], dtype='object', name='Date')}\n",
      "==========================================\n",
      "for windowsize of 90:\n",
      "{'pricePosiDate': Index([], dtype='object', name='Date'), 'priceNegeDate': Index([], dtype='object', name='Date'), 'priceDiffPosiDate': Index([], dtype='object', name='Date'), 'priceDiffNegeDate': Index([], dtype='object', name='Date')}\n",
      "==========================================\n"
     ]
    }
   ],
   "source": [
    "for ws in [30, 45, 60, 75, 90]:\n",
    "    #wsDF = \n",
    "    print (\"for windowsize of %i:\"%ws)\n",
    "    print (computePriceDF (price3pmDF, ws))\n",
    "    print (\"==========================================\")"
   ]
  },
  {
   "cell_type": "code",
   "execution_count": null,
   "metadata": {},
   "outputs": [],
   "source": []
  }
 ],
 "metadata": {
  "hide_input": false,
  "kernelspec": {
   "display_name": "Python 3",
   "language": "python",
   "name": "python3"
  },
  "language_info": {
   "codemirror_mode": {
    "name": "ipython",
    "version": 3
   },
   "file_extension": ".py",
   "mimetype": "text/x-python",
   "name": "python",
   "nbconvert_exporter": "python",
   "pygments_lexer": "ipython3",
   "version": "3.6.5"
  },
  "toc": {
   "base_numbering": 1,
   "nav_menu": {},
   "number_sections": true,
   "sideBar": true,
   "skip_h1_title": false,
   "title_cell": "Table of Contents",
   "title_sidebar": "Contents",
   "toc_cell": false,
   "toc_position": {},
   "toc_section_display": true,
   "toc_window_display": false
  },
  "varInspector": {
   "cols": {
    "lenName": 16,
    "lenType": 16,
    "lenVar": 40
   },
   "kernels_config": {
    "python": {
     "delete_cmd_postfix": "",
     "delete_cmd_prefix": "del ",
     "library": "var_list.py",
     "varRefreshCmd": "print(var_dic_list())"
    },
    "r": {
     "delete_cmd_postfix": ") ",
     "delete_cmd_prefix": "rm(",
     "library": "var_list.r",
     "varRefreshCmd": "cat(var_dic_list()) "
    }
   },
   "types_to_exclude": [
    "module",
    "function",
    "builtin_function_or_method",
    "instance",
    "_Feature"
   ],
   "window_display": true
  }
 },
 "nbformat": 4,
 "nbformat_minor": 2
}
