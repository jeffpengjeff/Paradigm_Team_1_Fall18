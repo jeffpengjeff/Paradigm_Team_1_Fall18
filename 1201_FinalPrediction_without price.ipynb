{
 "cells": [
  {
   "cell_type": "code",
   "execution_count": 1,
   "metadata": {},
   "outputs": [],
   "source": [
    "import numpy as np\n",
    "import pandas as pd\n",
    "from sklearn.model_selection import cross_val_score\n",
    "import warnings\n",
    "\n",
    "warnings.filterwarnings('ignore')"
   ]
  },
  {
   "cell_type": "code",
   "execution_count": 2,
   "metadata": {
    "scrolled": true
   },
   "outputs": [
    {
     "data": {
      "text/html": [
       "<div>\n",
       "<style scoped>\n",
       "    .dataframe tbody tr th:only-of-type {\n",
       "        vertical-align: middle;\n",
       "    }\n",
       "\n",
       "    .dataframe tbody tr th {\n",
       "        vertical-align: top;\n",
       "    }\n",
       "\n",
       "    .dataframe thead th {\n",
       "        text-align: right;\n",
       "    }\n",
       "</style>\n",
       "<table border=\"1\" class=\"dataframe\">\n",
       "  <thead>\n",
       "    <tr style=\"text-align: right;\">\n",
       "      <th></th>\n",
       "      <th>author</th>\n",
       "      <th>contents</th>\n",
       "      <th>description</th>\n",
       "      <th>publisher</th>\n",
       "      <th>source_url</th>\n",
       "      <th>title</th>\n",
       "      <th>date</th>\n",
       "      <th>time</th>\n",
       "      <th>Open</th>\n",
       "      <th>High</th>\n",
       "      <th>...</th>\n",
       "      <th>Average</th>\n",
       "      <th>Volatility</th>\n",
       "      <th>SD</th>\n",
       "      <th>publisherLabel</th>\n",
       "      <th>Mark</th>\n",
       "      <th>publisher_L</th>\n",
       "      <th>author_L</th>\n",
       "      <th>score_sentiment</th>\n",
       "      <th>magnitude_sentiment</th>\n",
       "      <th>tfidf</th>\n",
       "    </tr>\n",
       "  </thead>\n",
       "  <tbody>\n",
       "    <tr>\n",
       "      <th>0</th>\n",
       "      <td>Bitcoinist.net</td>\n",
       "      <td>real time prices vires numeris bitcoin ethereu...</td>\n",
       "      <td>israel finance ministry bank israel considerin...</td>\n",
       "      <td>Bitcoinist.com</td>\n",
       "      <td>http://bitcoinist.com/kosher-crypto-bitcoen-se...</td>\n",
       "      <td>Kosher Crypto BitCoen Is Setting a Course for ...</td>\n",
       "      <td>2/2/18</td>\n",
       "      <td>0:00:08</td>\n",
       "      <td>8547.864403</td>\n",
       "      <td>8562.224306</td>\n",
       "      <td>...</td>\n",
       "      <td>12603.49354</td>\n",
       "      <td>433909.3344</td>\n",
       "      <td>2087.647258</td>\n",
       "      <td>96.0</td>\n",
       "      <td>0.0</td>\n",
       "      <td>3.0</td>\n",
       "      <td>-1.0</td>\n",
       "      <td>0.4</td>\n",
       "      <td>0.4</td>\n",
       "      <td>0.31545</td>\n",
       "    </tr>\n",
       "    <tr>\n",
       "      <th>1</th>\n",
       "      <td>Michelle Fox</td>\n",
       "      <td>var postloadfunctions var foresee enabled var ...</td>\n",
       "      <td>bitcoin may still drop rally back year early b...</td>\n",
       "      <td>CNBC</td>\n",
       "      <td>https://www.cnbc.com/2018/02/01/bitcoin-near-b...</td>\n",
       "      <td>Bitcoin near bottom, will rally to $20,000 thi...</td>\n",
       "      <td>2/2/18</td>\n",
       "      <td>0:02:00</td>\n",
       "      <td>8547.864403</td>\n",
       "      <td>8562.224306</td>\n",
       "      <td>...</td>\n",
       "      <td>12603.49354</td>\n",
       "      <td>433909.3344</td>\n",
       "      <td>2087.647258</td>\n",
       "      <td>146.0</td>\n",
       "      <td>0.0</td>\n",
       "      <td>3.0</td>\n",
       "      <td>0.0</td>\n",
       "      <td>0.1</td>\n",
       "      <td>0.1</td>\n",
       "      <td>0.49858</td>\n",
       "    </tr>\n",
       "    <tr>\n",
       "      <th>2</th>\n",
       "      <td>Scott Scanlon</td>\n",
       "      <td>core cryptocurrency networks miners people use...</td>\n",
       "      <td>core cryptocurrency networks miners people use...</td>\n",
       "      <td>Youbrandinc.com</td>\n",
       "      <td>https://www.youbrandinc.com/crytocurrency/brai...</td>\n",
       "      <td>Brain Genius Submerges His Bitcoin Mining Rig ...</td>\n",
       "      <td>2/2/18</td>\n",
       "      <td>0:03:08</td>\n",
       "      <td>8547.864403</td>\n",
       "      <td>8562.224306</td>\n",
       "      <td>...</td>\n",
       "      <td>12603.49354</td>\n",
       "      <td>433909.3344</td>\n",
       "      <td>2087.647258</td>\n",
       "      <td>1181.0</td>\n",
       "      <td>0.0</td>\n",
       "      <td>-1.0</td>\n",
       "      <td>-1.0</td>\n",
       "      <td>0.4</td>\n",
       "      <td>0.4</td>\n",
       "      <td>0.31795</td>\n",
       "    </tr>\n",
       "    <tr>\n",
       "      <th>3</th>\n",
       "      <td>Bruce Kleinman</td>\n",
       "      <td>demons digital gold part already done please r...</td>\n",
       "      <td>demons digital gold part</td>\n",
       "      <td>Hackernoon.com</td>\n",
       "      <td>https://hackernoon.com/remediation-wherefore-a...</td>\n",
       "      <td>Remediation, wherefore art thou?</td>\n",
       "      <td>2/2/18</td>\n",
       "      <td>0:18:34</td>\n",
       "      <td>8547.864403</td>\n",
       "      <td>8562.224306</td>\n",
       "      <td>...</td>\n",
       "      <td>12603.49354</td>\n",
       "      <td>433909.3344</td>\n",
       "      <td>2087.647258</td>\n",
       "      <td>452.0</td>\n",
       "      <td>0.0</td>\n",
       "      <td>3.0</td>\n",
       "      <td>0.0</td>\n",
       "      <td>0.2</td>\n",
       "      <td>0.2</td>\n",
       "      <td>0.97540</td>\n",
       "    </tr>\n",
       "    <tr>\n",
       "      <th>4</th>\n",
       "      <td>Jason Murphy</td>\n",
       "      <td>email password remember feb systems underpinni...</td>\n",
       "      <td>systems underpinning bitcoin truly revolutiona...</td>\n",
       "      <td>Crikey.com.au</td>\n",
       "      <td>https://www.crikey.com.au/2018/02/02/cryptotra...</td>\n",
       "      <td>Cryptotragedy: what if bitcoin’s greatest stre...</td>\n",
       "      <td>2/2/18</td>\n",
       "      <td>0:25:09</td>\n",
       "      <td>8547.864403</td>\n",
       "      <td>8562.224306</td>\n",
       "      <td>...</td>\n",
       "      <td>12603.49354</td>\n",
       "      <td>433909.3344</td>\n",
       "      <td>2087.647258</td>\n",
       "      <td>220.0</td>\n",
       "      <td>0.0</td>\n",
       "      <td>0.0</td>\n",
       "      <td>0.0</td>\n",
       "      <td>0.8</td>\n",
       "      <td>0.8</td>\n",
       "      <td>0.33696</td>\n",
       "    </tr>\n",
       "  </tbody>\n",
       "</table>\n",
       "<p>5 rows × 25 columns</p>\n",
       "</div>"
      ],
      "text/plain": [
       "           author                                           contents  \\\n",
       "0  Bitcoinist.net  real time prices vires numeris bitcoin ethereu...   \n",
       "1    Michelle Fox  var postloadfunctions var foresee enabled var ...   \n",
       "2   Scott Scanlon  core cryptocurrency networks miners people use...   \n",
       "3  Bruce Kleinman  demons digital gold part already done please r...   \n",
       "4    Jason Murphy  email password remember feb systems underpinni...   \n",
       "\n",
       "                                         description        publisher  \\\n",
       "0  israel finance ministry bank israel considerin...   Bitcoinist.com   \n",
       "1  bitcoin may still drop rally back year early b...             CNBC   \n",
       "2  core cryptocurrency networks miners people use...  Youbrandinc.com   \n",
       "3                           demons digital gold part   Hackernoon.com   \n",
       "4  systems underpinning bitcoin truly revolutiona...    Crikey.com.au   \n",
       "\n",
       "                                          source_url  \\\n",
       "0  http://bitcoinist.com/kosher-crypto-bitcoen-se...   \n",
       "1  https://www.cnbc.com/2018/02/01/bitcoin-near-b...   \n",
       "2  https://www.youbrandinc.com/crytocurrency/brai...   \n",
       "3  https://hackernoon.com/remediation-wherefore-a...   \n",
       "4  https://www.crikey.com.au/2018/02/02/cryptotra...   \n",
       "\n",
       "                                               title    date     time  \\\n",
       "0  Kosher Crypto BitCoen Is Setting a Course for ...  2/2/18  0:00:08   \n",
       "1  Bitcoin near bottom, will rally to $20,000 thi...  2/2/18  0:02:00   \n",
       "2  Brain Genius Submerges His Bitcoin Mining Rig ...  2/2/18  0:03:08   \n",
       "3                   Remediation, wherefore art thou?  2/2/18  0:18:34   \n",
       "4  Cryptotragedy: what if bitcoin’s greatest stre...  2/2/18  0:25:09   \n",
       "\n",
       "          Open         High   ...         Average   Volatility           SD  \\\n",
       "0  8547.864403  8562.224306   ...     12603.49354  433909.3344  2087.647258   \n",
       "1  8547.864403  8562.224306   ...     12603.49354  433909.3344  2087.647258   \n",
       "2  8547.864403  8562.224306   ...     12603.49354  433909.3344  2087.647258   \n",
       "3  8547.864403  8562.224306   ...     12603.49354  433909.3344  2087.647258   \n",
       "4  8547.864403  8562.224306   ...     12603.49354  433909.3344  2087.647258   \n",
       "\n",
       "   publisherLabel  Mark  publisher_L  author_L  score_sentiment  \\\n",
       "0            96.0   0.0          3.0      -1.0              0.4   \n",
       "1           146.0   0.0          3.0       0.0              0.1   \n",
       "2          1181.0   0.0         -1.0      -1.0              0.4   \n",
       "3           452.0   0.0          3.0       0.0              0.2   \n",
       "4           220.0   0.0          0.0       0.0              0.8   \n",
       "\n",
       "   magnitude_sentiment    tfidf  \n",
       "0                  0.4  0.31545  \n",
       "1                  0.1  0.49858  \n",
       "2                  0.4  0.31795  \n",
       "3                  0.2  0.97540  \n",
       "4                  0.8  0.33696  \n",
       "\n",
       "[5 rows x 25 columns]"
      ]
     },
     "execution_count": 2,
     "metadata": {},
     "output_type": "execute_result"
    }
   ],
   "source": [
    "df=pd.read_csv('news_score.1csv.csv')\n",
    "\n",
    "df.head()\n"
   ]
  },
  {
   "cell_type": "code",
   "execution_count": 5,
   "metadata": {},
   "outputs": [],
   "source": [
    "df=df[df.author_L != -1]\n",
    "df=df[df.publisher_L != -1]\n",
    "df=df[df.score_sentiment != -2]\n",
    "df=df[df.magnitude_sentiment != -2]"
   ]
  },
  {
   "cell_type": "code",
   "execution_count": 6,
   "metadata": {},
   "outputs": [
    {
     "name": "stdout",
     "output_type": "stream",
     "text": [
      "<class 'pandas.core.frame.DataFrame'>\n",
      "Int64Index: 1592 entries, 662 to 6381\n",
      "Data columns (total 25 columns):\n",
      "author                 1592 non-null object\n",
      "contents               1592 non-null object\n",
      "description            1592 non-null object\n",
      "publisher              1592 non-null object\n",
      "source_url             1592 non-null object\n",
      "title                  1592 non-null object\n",
      "date                   1592 non-null object\n",
      "time                   1592 non-null object\n",
      "Open                   1592 non-null float64\n",
      "High                   1592 non-null float64\n",
      "Low                    1592 non-null float64\n",
      "Close                  1592 non-null float64\n",
      "Volume_(BTC)           1592 non-null float64\n",
      "Volume_(Currency)      1592 non-null float64\n",
      "Weighted_Price         1592 non-null float64\n",
      "Average                1592 non-null float64\n",
      "Volatility             1592 non-null float64\n",
      "SD                     1592 non-null float64\n",
      "publisherLabel         1592 non-null float64\n",
      "Mark                   1592 non-null float64\n",
      "publisher_L            1592 non-null float64\n",
      "author_L               1592 non-null float64\n",
      "score_sentiment        1592 non-null float64\n",
      "magnitude_sentiment    1592 non-null float64\n",
      "tfidf                  1592 non-null float64\n",
      "dtypes: float64(17), object(8)\n",
      "memory usage: 323.4+ KB\n"
     ]
    }
   ],
   "source": [
    "df.info()"
   ]
  },
  {
   "cell_type": "code",
   "execution_count": 7,
   "metadata": {
    "scrolled": false
   },
   "outputs": [
    {
     "data": {
      "text/html": [
       "<div>\n",
       "<style scoped>\n",
       "    .dataframe tbody tr th:only-of-type {\n",
       "        vertical-align: middle;\n",
       "    }\n",
       "\n",
       "    .dataframe tbody tr th {\n",
       "        vertical-align: top;\n",
       "    }\n",
       "\n",
       "    .dataframe thead th {\n",
       "        text-align: right;\n",
       "    }\n",
       "</style>\n",
       "<table border=\"1\" class=\"dataframe\">\n",
       "  <thead>\n",
       "    <tr style=\"text-align: right;\">\n",
       "      <th></th>\n",
       "      <th>Open</th>\n",
       "      <th>High</th>\n",
       "      <th>Low</th>\n",
       "      <th>Close</th>\n",
       "      <th>Volume_(BTC)</th>\n",
       "      <th>Volume_(Currency)</th>\n",
       "      <th>Weighted_Price</th>\n",
       "      <th>Average</th>\n",
       "      <th>Volatility</th>\n",
       "      <th>SD</th>\n",
       "      <th>publisherLabel</th>\n",
       "      <th>Mark</th>\n",
       "      <th>publisher_L</th>\n",
       "      <th>author_L</th>\n",
       "      <th>score_sentiment</th>\n",
       "      <th>magnitude_sentiment</th>\n",
       "      <th>tfidf</th>\n",
       "    </tr>\n",
       "  </thead>\n",
       "  <tbody>\n",
       "    <tr>\n",
       "      <th>count</th>\n",
       "      <td>1592.000000</td>\n",
       "      <td>1592.000000</td>\n",
       "      <td>1592.000000</td>\n",
       "      <td>1592.000000</td>\n",
       "      <td>1592.000000</td>\n",
       "      <td>1592.000000</td>\n",
       "      <td>1592.000000</td>\n",
       "      <td>1592.000000</td>\n",
       "      <td>1592.000000</td>\n",
       "      <td>1592.000000</td>\n",
       "      <td>1592.000000</td>\n",
       "      <td>1592.000000</td>\n",
       "      <td>1592.000000</td>\n",
       "      <td>1592.000000</td>\n",
       "      <td>1592.000000</td>\n",
       "      <td>1592.000000</td>\n",
       "      <td>1592.000000</td>\n",
       "    </tr>\n",
       "    <tr>\n",
       "      <th>mean</th>\n",
       "      <td>7998.314074</td>\n",
       "      <td>8005.845712</td>\n",
       "      <td>7990.331678</td>\n",
       "      <td>7998.165464</td>\n",
       "      <td>22.971678</td>\n",
       "      <td>178354.469303</td>\n",
       "      <td>7998.063760</td>\n",
       "      <td>10454.873033</td>\n",
       "      <td>258050.691208</td>\n",
       "      <td>1241.546967</td>\n",
       "      <td>550.798367</td>\n",
       "      <td>-0.555276</td>\n",
       "      <td>2.059673</td>\n",
       "      <td>1.027638</td>\n",
       "      <td>0.061997</td>\n",
       "      <td>0.405088</td>\n",
       "      <td>0.400748</td>\n",
       "    </tr>\n",
       "    <tr>\n",
       "      <th>std</th>\n",
       "      <td>275.612360</td>\n",
       "      <td>272.661447</td>\n",
       "      <td>279.081417</td>\n",
       "      <td>276.021757</td>\n",
       "      <td>9.925218</td>\n",
       "      <td>66599.168545</td>\n",
       "      <td>275.878077</td>\n",
       "      <td>776.219503</td>\n",
       "      <td>100841.975220</td>\n",
       "      <td>485.176179</td>\n",
       "      <td>353.631823</td>\n",
       "      <td>0.831927</td>\n",
       "      <td>1.113691</td>\n",
       "      <td>1.058557</td>\n",
       "      <td>0.483889</td>\n",
       "      <td>0.271653</td>\n",
       "      <td>0.175551</td>\n",
       "    </tr>\n",
       "    <tr>\n",
       "      <th>min</th>\n",
       "      <td>7615.109937</td>\n",
       "      <td>7629.812951</td>\n",
       "      <td>7598.931764</td>\n",
       "      <td>7613.970403</td>\n",
       "      <td>9.265880</td>\n",
       "      <td>74305.946820</td>\n",
       "      <td>7614.280886</td>\n",
       "      <td>9925.651689</td>\n",
       "      <td>186053.073600</td>\n",
       "      <td>895.148268</td>\n",
       "      <td>0.000000</td>\n",
       "      <td>-1.000000</td>\n",
       "      <td>0.000000</td>\n",
       "      <td>0.000000</td>\n",
       "      <td>-0.900000</td>\n",
       "      <td>0.000000</td>\n",
       "      <td>0.196730</td>\n",
       "    </tr>\n",
       "    <tr>\n",
       "      <th>25%</th>\n",
       "      <td>7671.665139</td>\n",
       "      <td>7678.224667</td>\n",
       "      <td>7664.668903</td>\n",
       "      <td>7671.829257</td>\n",
       "      <td>17.478690</td>\n",
       "      <td>146635.134600</td>\n",
       "      <td>7671.580421</td>\n",
       "      <td>10002.521880</td>\n",
       "      <td>186053.073600</td>\n",
       "      <td>895.148268</td>\n",
       "      <td>199.000000</td>\n",
       "      <td>-1.000000</td>\n",
       "      <td>1.000000</td>\n",
       "      <td>0.000000</td>\n",
       "      <td>-0.300000</td>\n",
       "      <td>0.200000</td>\n",
       "      <td>0.276382</td>\n",
       "    </tr>\n",
       "    <tr>\n",
       "      <th>50%</th>\n",
       "      <td>8102.868882</td>\n",
       "      <td>8108.615118</td>\n",
       "      <td>8096.967313</td>\n",
       "      <td>8102.989847</td>\n",
       "      <td>19.087727</td>\n",
       "      <td>154043.483800</td>\n",
       "      <td>8102.691218</td>\n",
       "      <td>10130.017600</td>\n",
       "      <td>219431.703100</td>\n",
       "      <td>1055.741274</td>\n",
       "      <td>536.500000</td>\n",
       "      <td>-1.000000</td>\n",
       "      <td>3.000000</td>\n",
       "      <td>1.000000</td>\n",
       "      <td>0.100000</td>\n",
       "      <td>0.400000</td>\n",
       "      <td>0.329850</td>\n",
       "    </tr>\n",
       "    <tr>\n",
       "      <th>75%</th>\n",
       "      <td>8102.868882</td>\n",
       "      <td>8108.615118</td>\n",
       "      <td>8096.967313</td>\n",
       "      <td>8102.989847</td>\n",
       "      <td>20.920029</td>\n",
       "      <td>160434.948700</td>\n",
       "      <td>8102.691218</td>\n",
       "      <td>10130.017600</td>\n",
       "      <td>231620.464900</td>\n",
       "      <td>1114.384481</td>\n",
       "      <td>846.000000</td>\n",
       "      <td>-1.000000</td>\n",
       "      <td>3.000000</td>\n",
       "      <td>2.000000</td>\n",
       "      <td>0.500000</td>\n",
       "      <td>0.600000</td>\n",
       "      <td>0.491200</td>\n",
       "    </tr>\n",
       "    <tr>\n",
       "      <th>max</th>\n",
       "      <td>8346.620701</td>\n",
       "      <td>8352.094882</td>\n",
       "      <td>8341.208083</td>\n",
       "      <td>8346.892236</td>\n",
       "      <td>41.047748</td>\n",
       "      <td>297975.902000</td>\n",
       "      <td>8346.738321</td>\n",
       "      <td>11917.267390</td>\n",
       "      <td>446037.816100</td>\n",
       "      <td>2146.000443</td>\n",
       "      <td>1186.000000</td>\n",
       "      <td>1.000000</td>\n",
       "      <td>3.000000</td>\n",
       "      <td>3.000000</td>\n",
       "      <td>0.900000</td>\n",
       "      <td>0.900000</td>\n",
       "      <td>1.235600</td>\n",
       "    </tr>\n",
       "  </tbody>\n",
       "</table>\n",
       "</div>"
      ],
      "text/plain": [
       "              Open         High          Low        Close  Volume_(BTC)  \\\n",
       "count  1592.000000  1592.000000  1592.000000  1592.000000   1592.000000   \n",
       "mean   7998.314074  8005.845712  7990.331678  7998.165464     22.971678   \n",
       "std     275.612360   272.661447   279.081417   276.021757      9.925218   \n",
       "min    7615.109937  7629.812951  7598.931764  7613.970403      9.265880   \n",
       "25%    7671.665139  7678.224667  7664.668903  7671.829257     17.478690   \n",
       "50%    8102.868882  8108.615118  8096.967313  8102.989847     19.087727   \n",
       "75%    8102.868882  8108.615118  8096.967313  8102.989847     20.920029   \n",
       "max    8346.620701  8352.094882  8341.208083  8346.892236     41.047748   \n",
       "\n",
       "       Volume_(Currency)  Weighted_Price       Average     Volatility  \\\n",
       "count        1592.000000     1592.000000   1592.000000    1592.000000   \n",
       "mean       178354.469303     7998.063760  10454.873033  258050.691208   \n",
       "std         66599.168545      275.878077    776.219503  100841.975220   \n",
       "min         74305.946820     7614.280886   9925.651689  186053.073600   \n",
       "25%        146635.134600     7671.580421  10002.521880  186053.073600   \n",
       "50%        154043.483800     8102.691218  10130.017600  219431.703100   \n",
       "75%        160434.948700     8102.691218  10130.017600  231620.464900   \n",
       "max        297975.902000     8346.738321  11917.267390  446037.816100   \n",
       "\n",
       "                SD  publisherLabel         Mark  publisher_L     author_L  \\\n",
       "count  1592.000000     1592.000000  1592.000000  1592.000000  1592.000000   \n",
       "mean   1241.546967      550.798367    -0.555276     2.059673     1.027638   \n",
       "std     485.176179      353.631823     0.831927     1.113691     1.058557   \n",
       "min     895.148268        0.000000    -1.000000     0.000000     0.000000   \n",
       "25%     895.148268      199.000000    -1.000000     1.000000     0.000000   \n",
       "50%    1055.741274      536.500000    -1.000000     3.000000     1.000000   \n",
       "75%    1114.384481      846.000000    -1.000000     3.000000     2.000000   \n",
       "max    2146.000443     1186.000000     1.000000     3.000000     3.000000   \n",
       "\n",
       "       score_sentiment  magnitude_sentiment        tfidf  \n",
       "count      1592.000000          1592.000000  1592.000000  \n",
       "mean          0.061997             0.405088     0.400748  \n",
       "std           0.483889             0.271653     0.175551  \n",
       "min          -0.900000             0.000000     0.196730  \n",
       "25%          -0.300000             0.200000     0.276382  \n",
       "50%           0.100000             0.400000     0.329850  \n",
       "75%           0.500000             0.600000     0.491200  \n",
       "max           0.900000             0.900000     1.235600  "
      ]
     },
     "execution_count": 7,
     "metadata": {},
     "output_type": "execute_result"
    }
   ],
   "source": [
    "df.describe()"
   ]
  },
  {
   "cell_type": "code",
   "execution_count": 8,
   "metadata": {},
   "outputs": [],
   "source": [
    "from numpy import array\n",
    "from numpy import argmax\n",
    "from sklearn.preprocessing import LabelEncoder\n",
    "from sklearn.preprocessing import OneHotEncoder\n",
    "\n",
    "# define example\n",
    "\n",
    "def onehotencoding_fun(data):\n",
    "    values = array(data)\n",
    "    # integer encode\n",
    "    label_encoder = LabelEncoder()\n",
    "    integer_encoded = label_encoder.fit_transform(values)\n",
    "    #print(integer_encoded)\n",
    "    # binary encode\n",
    "    onehot_encoder = OneHotEncoder(sparse=False)\n",
    "    integer_encoded = integer_encoded.reshape(len(integer_encoded), 1)\n",
    "    onehot_encoded = onehot_encoder.fit_transform(integer_encoded)\n",
    "    #print(onehot_encoded)\n",
    "    # invert first example\n",
    "    inverted = label_encoder.inverse_transform([argmax(onehot_encoded[0, :])])\n",
    "    #print(inverted)\n",
    "    return onehot_encoded "
   ]
  },
  {
   "cell_type": "code",
   "execution_count": 9,
   "metadata": {},
   "outputs": [],
   "source": [
    "publisher_L_data = df['publisher_L']\n",
    "author_L_data = df['author_L']\n",
    "onehot_publisher_L = onehotencoding_fun(publisher_L_data)\n",
    "onehot_author_L = onehotencoding_fun(author_L_data)\n",
    "\n",
    "#df['publisher_L_onehot'] = onehot_publisher_L\n",
    "#df['author_L_onehot'] = onehot_author_L\n",
    "df['publisher_L_onehot'] = 0\n",
    "df['author_L_onehot'] = 0\n",
    "for i in range(len(author_L_data)):\n",
    "    df['author_L_onehot'][i] = onehot_author_L[i]\n",
    "for i in range(len(publisher_L_data)):\n",
    "    df['publisher_L_onehot'][i] = onehot_publisher_L[i]"
   ]
  },
  {
   "cell_type": "code",
   "execution_count": 10,
   "metadata": {},
   "outputs": [],
   "source": [
    "df.to_csv('data_onehot.csv')"
   ]
  },
  {
   "cell_type": "markdown",
   "metadata": {},
   "source": [
    "# Setup Training and Validation Sets"
   ]
  },
  {
   "cell_type": "code",
   "execution_count": 259,
   "metadata": {},
   "outputs": [
    {
     "name": "stdout",
     "output_type": "stream",
     "text": [
      "(1592, 5) (1592,)\n",
      "(1273, 5) (1273,)\n",
      "(319, 5) (319,)\n"
     ]
    }
   ],
   "source": [
    "X=df[['publisher_L_onehot','author_L_onehot','score_sentiment','magnitude_sentiment','tfidf']]\n",
    "Y=df['Mark']\n",
    "\n",
    "print(X.shape, Y.shape)\n",
    "\n",
    "np.random.seed(2) # set random seed for reproducibility\n",
    "\n",
    "from sklearn.model_selection import train_test_split\n",
    "\n",
    "X_train, X_val, Y_train, Y_val = train_test_split(X, Y, test_size=0.2, random_state=2)\n",
    "\n",
    "print(X_train.shape, Y_train.shape)\n",
    "print(X_val.shape, Y_val.shape)\n",
    "\n",
    "from sklearn.linear_model import LogisticRegression\n",
    "from sklearn.svm import SVC, LinearSVC\n",
    "from sklearn.ensemble import RandomForestClassifier\n",
    "from sklearn.neighbors import KNeighborsClassifier\n",
    "from sklearn.naive_bayes import GaussianNB # Gaussian Naive Bayes\n",
    "from sklearn.linear_model import Perceptron\n",
    "from sklearn.tree import DecisionTreeClassifier"
   ]
  },
  {
   "cell_type": "code",
   "execution_count": 260,
   "metadata": {},
   "outputs": [
    {
     "data": {
      "text/plain": [
       "-1.0    1238\n",
       " 1.0     354\n",
       "Name: Mark, dtype: int64"
      ]
     },
     "execution_count": 260,
     "metadata": {},
     "output_type": "execute_result"
    }
   ],
   "source": [
    "Y.value_counts()"
   ]
  },
  {
   "cell_type": "markdown",
   "metadata": {},
   "source": [
    "# label counts of different categories\n",
    "Y.value_counts()"
   ]
  },
  {
   "cell_type": "markdown",
   "metadata": {},
   "source": [
    "## 1. Logistic Regression"
   ]
  },
  {
   "cell_type": "code",
   "execution_count": 261,
   "metadata": {},
   "outputs": [
    {
     "name": "stdout",
     "output_type": "stream",
     "text": [
      "Logistic Regression using built-in method: 76.8 %\n",
      "[0.78039216 0.78039216 0.78039216 0.77952756 0.77952756]\n"
     ]
    }
   ],
   "source": [
    "logreg = LogisticRegression()                                # instantiate\n",
    "logreg.fit(X_train, Y_train)                                 # fit\n",
    "Y_pred_log = logreg.predict(X_val)                           # predict\n",
    "Y_proba_log = logreg.predict_proba(X_val)\n",
    "\n",
    "acc_log_2 = logreg.score(X_val, Y_val)\n",
    "scores1 = cross_val_score(logreg, X_train, Y_train, scoring = ,cv=5)\n",
    "# evaluate\n",
    "print('Logistic Regression using built-in method:', str(round(acc_log_2*100,2)),'%')\n",
    "print(scores1)"
   ]
  },
  {
   "cell_type": "markdown",
   "metadata": {},
   "source": [
    "## 2. KNN"
   ]
  },
  {
   "cell_type": "code",
   "execution_count": 262,
   "metadata": {},
   "outputs": [
    {
     "name": "stdout",
     "output_type": "stream",
     "text": [
      "K-Nearest Neighbors labeling accuracy: 74.29 %\n",
      "[0.76862745 0.76470588 0.75294118 0.75984252 0.75984252]\n"
     ]
    }
   ],
   "source": [
    "knn = KNeighborsClassifier(n_neighbors = 10)                  # instantiate\n",
    "knn.fit(X_train, Y_train)                                    # fit\n",
    "acc_knn = knn.score(X_val, Y_val)                            # predict + evaluate\n",
    "prob_knn=knn.predict_proba(X_val)\n",
    "\n",
    "scores2 = cross_val_score(knn, X_train, Y_train, cv=5)\n",
    "print('K-Nearest Neighbors labeling accuracy:', str(round(acc_knn*100,2)),'%')\n",
    "print(scores2)"
   ]
  },
  {
   "cell_type": "markdown",
   "metadata": {},
   "source": [
    "## 3. SVM"
   ]
  },
  {
   "cell_type": "code",
   "execution_count": 269,
   "metadata": {},
   "outputs": [
    {
     "name": "stdout",
     "output_type": "stream",
     "text": [
      "Support Vector Machines labeling accuracy: 76.8 %\n",
      "[0.78039216 0.78039216 0.78039216 0.77952756 0.77952756]\n"
     ]
    }
   ],
   "source": [
    "# Support Vector Machines Classifier (non-linear kernel)\n",
    "import sklearn\n",
    "svc = SVC(probability=True)                                                  # instantiate\n",
    "svc.fit(X_train, Y_train)                                    # fit\n",
    "acc_svc = svc.score(X_val, Y_val)                            # predict + evaluate\n",
    "\n",
    "prob_svm=svc.predict_proba(X_val)\n",
    "scores3 = cross_val_score(svc, X_train, Y_train, cv=5)\n",
    "#Y_proba_svm=sklearn.svm.libsvm.predict_proba()\n",
    "print('Support Vector Machines labeling accuracy:', str(round(acc_svc*100,2)),'%')\n",
    "print(scores3)"
   ]
  },
  {
   "cell_type": "markdown",
   "metadata": {},
   "source": [
    "## 4. Perceptron"
   ]
  },
  {
   "cell_type": "code",
   "execution_count": 264,
   "metadata": {},
   "outputs": [
    {
     "name": "stdout",
     "output_type": "stream",
     "text": [
      "Perceptron labeling accuracy: 76.8 %\n",
      "[0.78039216 0.78039216 0.70588235 0.77952756 0.70472441]\n"
     ]
    }
   ],
   "source": [
    "perceptron = Perceptron()                                    # instantiate \n",
    "perceptron.fit(X_train, Y_train)                             # fit\n",
    "acc_perceptron = perceptron.score(X_val, Y_val)              # predict + evalaute\n",
    "scores4 = cross_val_score(perceptron, X_train, Y_train, cv=5)\n",
    "\n",
    "print('Perceptron labeling accuracy:', str(round(acc_perceptron*100,2)),'%')\n",
    "print(scores4)"
   ]
  },
  {
   "cell_type": "markdown",
   "metadata": {},
   "source": [
    "## 5. Random Forest"
   ]
  },
  {
   "cell_type": "code",
   "execution_count": 265,
   "metadata": {},
   "outputs": [
    {
     "name": "stdout",
     "output_type": "stream",
     "text": [
      "Random Forest labeling accuracy: 89.97 %\n",
      "[-1. -1. -1.  1.  1. -1. -1. -1. -1.  1.  1. -1. -1. -1.  1. -1. -1. -1.\n",
      "  1. -1. -1. -1. -1. -1. -1. -1. -1. -1.  1. -1. -1. -1.  1. -1. -1. -1.\n",
      "  1.  1. -1. -1. -1.  1. -1.  1. -1. -1. -1. -1. -1. -1.  1. -1. -1.  1.\n",
      " -1. -1.  1. -1. -1. -1. -1. -1. -1.  1. -1. -1. -1. -1.  1. -1. -1. -1.\n",
      "  1. -1. -1. -1. -1. -1. -1.  1. -1. -1. -1. -1. -1. -1. -1. -1. -1.  1.\n",
      " -1. -1. -1. -1. -1.  1. -1. -1.  1.  1. -1. -1.  1. -1. -1. -1.  1.  1.\n",
      " -1.  1. -1. -1. -1. -1. -1. -1.  1.  1. -1. -1. -1.  1. -1. -1. -1. -1.\n",
      " -1.  1. -1. -1. -1.  1. -1. -1. -1. -1. -1. -1.  1. -1. -1. -1. -1.  1.\n",
      "  1. -1. -1.  1. -1. -1.  1. -1. -1. -1. -1. -1. -1. -1. -1. -1. -1. -1.\n",
      "  1.  1. -1.  1.  1. -1.  1. -1. -1. -1. -1. -1. -1. -1. -1. -1. -1.  1.\n",
      " -1. -1. -1. -1. -1. -1. -1. -1.  1. -1.  1. -1. -1. -1. -1. -1. -1. -1.\n",
      "  1. -1.  1. -1. -1. -1.  1. -1. -1. -1. -1. -1. -1. -1.  1. -1. -1. -1.\n",
      " -1. -1. -1. -1. -1. -1. -1.  1. -1. -1. -1. -1. -1. -1. -1.  1.  1. -1.\n",
      " -1.  1. -1. -1. -1. -1.  1.  1. -1. -1. -1. -1. -1. -1. -1. -1. -1. -1.\n",
      " -1. -1.  1. -1.  1.  1. -1. -1. -1. -1.  1. -1. -1. -1. -1. -1. -1. -1.\n",
      " -1. -1. -1. -1.  1. -1.  1. -1. -1. -1.  1.  1. -1. -1.  1.  1. -1. -1.\n",
      " -1. -1. -1. -1. -1. -1. -1. -1. -1. -1.  1. -1. -1. -1. -1. -1.  1. -1.\n",
      "  1.  1.  1. -1. -1. -1. -1. -1. -1. -1. -1. -1. -1.]\n",
      "[0.90980392 0.83137255 0.88627451 0.88188976 0.88188976]\n"
     ]
    }
   ],
   "source": [
    "# Random Forest\n",
    "random_forest = RandomForestClassifier(n_estimators=1000)   # instantiate\n",
    "random_forest.fit(X_train, Y_train)                         # fit\n",
    "acc_rf = random_forest.score(X_val, Y_val)                  # predict + evaluate\n",
    "\n",
    "print('Random Forest labeling accuracy:', str(round(acc_rf*100,2)),'%')\n",
    "\n",
    "predicted5=random_forest.predict(X_val)\n",
    "prob_random=random_forest.predict_proba(X_val)\n",
    "scores5 = cross_val_score(random_forest, X_train, Y_train, cv=5)\n",
    "print(predicted5)\n",
    "print(scores5)"
   ]
  },
  {
   "cell_type": "markdown",
   "metadata": {},
   "source": [
    "## 6.XGBoost\n"
   ]
  },
  {
   "cell_type": "code",
   "execution_count": 267,
   "metadata": {},
   "outputs": [
    {
     "name": "stdout",
     "output_type": "stream",
     "text": [
      "XGBoost labeling accuracy: 83.39 %\n"
     ]
    }
   ],
   "source": [
    "import xgboost as xgb\n",
    "# XGBoost, same API as scikit-learn\n",
    "gradboost = xgb.XGBClassifier(n_estimators=1000)             # instantiate\n",
    "gradboost.fit(X_train, Y_train)                              # fit\n",
    "acc_xgboost = gradboost.score(X_val, Y_val)                  # predict + evalute\n",
    "\n",
    "print('XGBoost labeling accuracy:', str(round(acc_xgboost*100,2)),'%')"
   ]
  },
  {
   "cell_type": "markdown",
   "metadata": {},
   "source": [
    "## 7. Lasso"
   ]
  },
  {
   "cell_type": "code",
   "execution_count": 256,
   "metadata": {},
   "outputs": [],
   "source": [
    "#from sklearn.linear_model import Lasso\n",
    "#lasso = Lasso(alpha=0.00001, max_iter=10e5)\n",
    "#lasso.fit(X_train,Y_train)\n",
    "#train_score=lasso.score(X_val,Y_val)\n",
    "#test_score=lasso.score(X_val,Y_val)\n",
    "#coeff_used = np.sum(lasso.coef_!=0)\n",
    "\n",
    "#print (\"training score:\", train_score )\n",
    "#print (\"test score: \", test_score)\n",
    "#print (\"number of features used: \", coeff_used)\n",
    "#print(lasso.coef_)\n",
    "#print(lasso.intercept_) "
   ]
  },
  {
   "cell_type": "markdown",
   "metadata": {},
   "source": [
    "## 8.1. ROC_AUC with LogisticReg"
   ]
  },
  {
   "cell_type": "code",
   "execution_count": 257,
   "metadata": {},
   "outputs": [
    {
     "data": {
      "image/png": "[encoded data removed]",
      "text/plain": [
       "<Figure size 432x288 with 1 Axes>"
      ]
     },
     "metadata": {},
     "output_type": "display_data"
    }
   ],
   "source": [
    "import sklearn\n",
    "\n",
    "import scikitplot as skplt\n",
    "import matplotlib.pyplot as plt\n",
    "\n",
    "skplt.metrics.plot_roc(Y_val, Y_proba_log)\n",
    "plt.show()"
   ]
  },
  {
   "cell_type": "markdown",
   "metadata": {},
   "source": [
    "## 8.2. ROC_AUC with SVM"
   ]
  },
  {
   "cell_type": "code",
   "execution_count": 270,
   "metadata": {},
   "outputs": [
    {
     "data": {
      "image/png": "[encoded data removed]",
      "text/plain": [
       "<Figure size 432x288 with 1 Axes>"
      ]
     },
     "metadata": {},
     "output_type": "display_data"
    }
   ],
   "source": [
    "skplt.metrics.plot_roc(Y_val, prob_svm)\n",
    "plt.show()"
   ]
  },
  {
   "cell_type": "code",
   "execution_count": 240,
   "metadata": {},
   "outputs": [
    {
     "data": {
      "image/png": "[encoded data removed]",
      "text/plain": [
       "<Figure size 432x288 with 1 Axes>"
      ]
     },
     "metadata": {},
     "output_type": "display_data"
    }
   ],
   "source": [
    "skplt.metrics.plot_roc(Y_val, prob_knn)\n",
    "plt.show()"
   ]
  },
  {
   "cell_type": "code",
   "execution_count": 241,
   "metadata": {},
   "outputs": [
    {
     "data": {
      "image/png": "[encoded data removed]",
      "text/plain": [
       "<Figure size 432x288 with 1 Axes>"
      ]
     },
     "metadata": {},
     "output_type": "display_data"
    }
   ],
   "source": [
    "skplt.metrics.plot_roc(Y_val, prob_random)\n",
    "plt.show()"
   ]
  },
  {
   "cell_type": "code",
   "execution_count": null,
   "metadata": {},
   "outputs": [],
   "source": []
  },
  {
   "cell_type": "code",
   "execution_count": null,
   "metadata": {},
   "outputs": [],
   "source": []
  }
 ],
 "metadata": {
  "kernelspec": {
   "display_name": "Python 3",
   "language": "python",
   "name": "python3"
  },
  "language_info": {
   "codemirror_mode": {
    "name": "ipython",
    "version": 3
   },
   "file_extension": ".py",
   "mimetype": "text/x-python",
   "name": "python",
   "nbconvert_exporter": "python",
   "pygments_lexer": "ipython3",
   "version": "3.5.5"
  }
 },
 "nbformat": 4,
 "nbformat_minor": 2
}
