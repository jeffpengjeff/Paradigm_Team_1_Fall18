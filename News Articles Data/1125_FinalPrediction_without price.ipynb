{
 "cells": [
  {
   "cell_type": "code",
   "execution_count": 2,
   "metadata": {},
   "outputs": [],
   "source": [
    "import numpy as np\n",
    "import pandas as pd"
   ]
  },
  {
   "cell_type": "code",
   "execution_count": 3,
   "metadata": {},
   "outputs": [
    {
     "data": {
      "text/html": [
       "<div>\n",
       "<style scoped>\n",
       "    .dataframe tbody tr th:only-of-type {\n",
       "        vertical-align: middle;\n",
       "    }\n",
       "\n",
       "    .dataframe tbody tr th {\n",
       "        vertical-align: top;\n",
       "    }\n",
       "\n",
       "    .dataframe thead th {\n",
       "        text-align: right;\n",
       "    }\n",
       "</style>\n",
       "<table border=\"1\" class=\"dataframe\">\n",
       "  <thead>\n",
       "    <tr style=\"text-align: right;\">\n",
       "      <th></th>\n",
       "      <th>author</th>\n",
       "      <th>contents</th>\n",
       "      <th>description</th>\n",
       "      <th>publisher</th>\n",
       "      <th>source_url</th>\n",
       "      <th>title</th>\n",
       "      <th>date</th>\n",
       "      <th>time</th>\n",
       "      <th>Open</th>\n",
       "      <th>High</th>\n",
       "      <th>...</th>\n",
       "      <th>Average</th>\n",
       "      <th>Volatility</th>\n",
       "      <th>SD</th>\n",
       "      <th>publisherLabel</th>\n",
       "      <th>Mark</th>\n",
       "      <th>publisher_L</th>\n",
       "      <th>author_L</th>\n",
       "      <th>score_sentiment</th>\n",
       "      <th>magnitude_sentiment</th>\n",
       "      <th>tfidf</th>\n",
       "    </tr>\n",
       "  </thead>\n",
       "  <tbody>\n",
       "    <tr>\n",
       "      <th>0</th>\n",
       "      <td>Bitcoinist.net</td>\n",
       "      <td>real time prices vires numeris bitcoin ethereu...</td>\n",
       "      <td>israel finance ministry bank israel considerin...</td>\n",
       "      <td>Bitcoinist.com</td>\n",
       "      <td>http://bitcoinist.com/kosher-crypto-bitcoen-se...</td>\n",
       "      <td>Kosher Crypto BitCoen Is Setting a Course for ...</td>\n",
       "      <td>2/2/18</td>\n",
       "      <td>0:00:08</td>\n",
       "      <td>8547.864403</td>\n",
       "      <td>8562.224306</td>\n",
       "      <td>...</td>\n",
       "      <td>12603.49354</td>\n",
       "      <td>433909.3344</td>\n",
       "      <td>2087.647258</td>\n",
       "      <td>96.0</td>\n",
       "      <td>0.0</td>\n",
       "      <td>3.0</td>\n",
       "      <td>-1.0</td>\n",
       "      <td>0.4</td>\n",
       "      <td>0.4</td>\n",
       "      <td>0.31545</td>\n",
       "    </tr>\n",
       "    <tr>\n",
       "      <th>1</th>\n",
       "      <td>Michelle Fox</td>\n",
       "      <td>var postloadfunctions var foresee enabled var ...</td>\n",
       "      <td>bitcoin may still drop rally back year early b...</td>\n",
       "      <td>CNBC</td>\n",
       "      <td>https://www.cnbc.com/2018/02/01/bitcoin-near-b...</td>\n",
       "      <td>Bitcoin near bottom, will rally to $20,000 thi...</td>\n",
       "      <td>2/2/18</td>\n",
       "      <td>0:02:00</td>\n",
       "      <td>8547.864403</td>\n",
       "      <td>8562.224306</td>\n",
       "      <td>...</td>\n",
       "      <td>12603.49354</td>\n",
       "      <td>433909.3344</td>\n",
       "      <td>2087.647258</td>\n",
       "      <td>146.0</td>\n",
       "      <td>0.0</td>\n",
       "      <td>3.0</td>\n",
       "      <td>0.0</td>\n",
       "      <td>0.1</td>\n",
       "      <td>0.1</td>\n",
       "      <td>0.49858</td>\n",
       "    </tr>\n",
       "    <tr>\n",
       "      <th>2</th>\n",
       "      <td>Scott Scanlon</td>\n",
       "      <td>core cryptocurrency networks miners people use...</td>\n",
       "      <td>core cryptocurrency networks miners people use...</td>\n",
       "      <td>Youbrandinc.com</td>\n",
       "      <td>https://www.youbrandinc.com/crytocurrency/brai...</td>\n",
       "      <td>Brain Genius Submerges His Bitcoin Mining Rig ...</td>\n",
       "      <td>2/2/18</td>\n",
       "      <td>0:03:08</td>\n",
       "      <td>8547.864403</td>\n",
       "      <td>8562.224306</td>\n",
       "      <td>...</td>\n",
       "      <td>12603.49354</td>\n",
       "      <td>433909.3344</td>\n",
       "      <td>2087.647258</td>\n",
       "      <td>1181.0</td>\n",
       "      <td>0.0</td>\n",
       "      <td>-1.0</td>\n",
       "      <td>-1.0</td>\n",
       "      <td>0.4</td>\n",
       "      <td>0.4</td>\n",
       "      <td>0.31795</td>\n",
       "    </tr>\n",
       "    <tr>\n",
       "      <th>3</th>\n",
       "      <td>Bruce Kleinman</td>\n",
       "      <td>demons digital gold part already done please r...</td>\n",
       "      <td>demons digital gold part</td>\n",
       "      <td>Hackernoon.com</td>\n",
       "      <td>https://hackernoon.com/remediation-wherefore-a...</td>\n",
       "      <td>Remediation, wherefore art thou?</td>\n",
       "      <td>2/2/18</td>\n",
       "      <td>0:18:34</td>\n",
       "      <td>8547.864403</td>\n",
       "      <td>8562.224306</td>\n",
       "      <td>...</td>\n",
       "      <td>12603.49354</td>\n",
       "      <td>433909.3344</td>\n",
       "      <td>2087.647258</td>\n",
       "      <td>452.0</td>\n",
       "      <td>0.0</td>\n",
       "      <td>3.0</td>\n",
       "      <td>0.0</td>\n",
       "      <td>0.2</td>\n",
       "      <td>0.2</td>\n",
       "      <td>0.97540</td>\n",
       "    </tr>\n",
       "    <tr>\n",
       "      <th>4</th>\n",
       "      <td>Jason Murphy</td>\n",
       "      <td>email password remember feb systems underpinni...</td>\n",
       "      <td>systems underpinning bitcoin truly revolutiona...</td>\n",
       "      <td>Crikey.com.au</td>\n",
       "      <td>https://www.crikey.com.au/2018/02/02/cryptotra...</td>\n",
       "      <td>Cryptotragedy: what if bitcoin’s greatest stre...</td>\n",
       "      <td>2/2/18</td>\n",
       "      <td>0:25:09</td>\n",
       "      <td>8547.864403</td>\n",
       "      <td>8562.224306</td>\n",
       "      <td>...</td>\n",
       "      <td>12603.49354</td>\n",
       "      <td>433909.3344</td>\n",
       "      <td>2087.647258</td>\n",
       "      <td>220.0</td>\n",
       "      <td>0.0</td>\n",
       "      <td>0.0</td>\n",
       "      <td>0.0</td>\n",
       "      <td>0.8</td>\n",
       "      <td>0.8</td>\n",
       "      <td>0.33696</td>\n",
       "    </tr>\n",
       "  </tbody>\n",
       "</table>\n",
       "<p>5 rows × 25 columns</p>\n",
       "</div>"
      ],
      "text/plain": [
       "           author                                           contents  \\\n",
       "0  Bitcoinist.net  real time prices vires numeris bitcoin ethereu...   \n",
       "1    Michelle Fox  var postloadfunctions var foresee enabled var ...   \n",
       "2   Scott Scanlon  core cryptocurrency networks miners people use...   \n",
       "3  Bruce Kleinman  demons digital gold part already done please r...   \n",
       "4    Jason Murphy  email password remember feb systems underpinni...   \n",
       "\n",
       "                                         description        publisher  \\\n",
       "0  israel finance ministry bank israel considerin...   Bitcoinist.com   \n",
       "1  bitcoin may still drop rally back year early b...             CNBC   \n",
       "2  core cryptocurrency networks miners people use...  Youbrandinc.com   \n",
       "3                           demons digital gold part   Hackernoon.com   \n",
       "4  systems underpinning bitcoin truly revolutiona...    Crikey.com.au   \n",
       "\n",
       "                                          source_url  \\\n",
       "0  http://bitcoinist.com/kosher-crypto-bitcoen-se...   \n",
       "1  https://www.cnbc.com/2018/02/01/bitcoin-near-b...   \n",
       "2  https://www.youbrandinc.com/crytocurrency/brai...   \n",
       "3  https://hackernoon.com/remediation-wherefore-a...   \n",
       "4  https://www.crikey.com.au/2018/02/02/cryptotra...   \n",
       "\n",
       "                                               title    date     time  \\\n",
       "0  Kosher Crypto BitCoen Is Setting a Course for ...  2/2/18  0:00:08   \n",
       "1  Bitcoin near bottom, will rally to $20,000 thi...  2/2/18  0:02:00   \n",
       "2  Brain Genius Submerges His Bitcoin Mining Rig ...  2/2/18  0:03:08   \n",
       "3                   Remediation, wherefore art thou?  2/2/18  0:18:34   \n",
       "4  Cryptotragedy: what if bitcoin’s greatest stre...  2/2/18  0:25:09   \n",
       "\n",
       "          Open         High   ...         Average   Volatility           SD  \\\n",
       "0  8547.864403  8562.224306   ...     12603.49354  433909.3344  2087.647258   \n",
       "1  8547.864403  8562.224306   ...     12603.49354  433909.3344  2087.647258   \n",
       "2  8547.864403  8562.224306   ...     12603.49354  433909.3344  2087.647258   \n",
       "3  8547.864403  8562.224306   ...     12603.49354  433909.3344  2087.647258   \n",
       "4  8547.864403  8562.224306   ...     12603.49354  433909.3344  2087.647258   \n",
       "\n",
       "   publisherLabel  Mark  publisher_L  author_L  score_sentiment  \\\n",
       "0            96.0   0.0          3.0      -1.0              0.4   \n",
       "1           146.0   0.0          3.0       0.0              0.1   \n",
       "2          1181.0   0.0         -1.0      -1.0              0.4   \n",
       "3           452.0   0.0          3.0       0.0              0.2   \n",
       "4           220.0   0.0          0.0       0.0              0.8   \n",
       "\n",
       "   magnitude_sentiment    tfidf  \n",
       "0                  0.4  0.31545  \n",
       "1                  0.1  0.49858  \n",
       "2                  0.4  0.31795  \n",
       "3                  0.2  0.97540  \n",
       "4                  0.8  0.33696  \n",
       "\n",
       "[5 rows x 25 columns]"
      ]
     },
     "execution_count": 3,
     "metadata": {},
     "output_type": "execute_result"
    }
   ],
   "source": [
    "df=pd.read_csv('news_score.1csv.csv')\n",
    "\n",
    "df.head()\n"
   ]
  },
  {
   "cell_type": "code",
   "execution_count": 4,
   "metadata": {},
   "outputs": [],
   "source": [
    "df=df[df.author_L != -1]\n",
    "df=df[df.publisher_L != -1]\n",
    "df=df[df.score_sentiment != -2]\n",
    "df=df[df.magnitude_sentiment != -2]"
   ]
  },
  {
   "cell_type": "code",
   "execution_count": 5,
   "metadata": {},
   "outputs": [
    {
     "name": "stdout",
     "output_type": "stream",
     "text": [
      "<class 'pandas.core.frame.DataFrame'>\n",
      "Int64Index: 5230 entries, 1 to 7053\n",
      "Data columns (total 25 columns):\n",
      "author                 5230 non-null object\n",
      "contents               5230 non-null object\n",
      "description            5230 non-null object\n",
      "publisher              5230 non-null object\n",
      "source_url             5230 non-null object\n",
      "title                  5230 non-null object\n",
      "date                   5230 non-null object\n",
      "time                   5230 non-null object\n",
      "Open                   5230 non-null float64\n",
      "High                   5230 non-null float64\n",
      "Low                    5230 non-null float64\n",
      "Close                  5230 non-null float64\n",
      "Volume_(BTC)           5230 non-null float64\n",
      "Volume_(Currency)      5230 non-null float64\n",
      "Weighted_Price         5230 non-null float64\n",
      "Average                5230 non-null float64\n",
      "Volatility             5230 non-null float64\n",
      "SD                     5230 non-null float64\n",
      "publisherLabel         5230 non-null float64\n",
      "Mark                   5230 non-null float64\n",
      "publisher_L            5230 non-null float64\n",
      "author_L               5230 non-null float64\n",
      "score_sentiment        5230 non-null float64\n",
      "magnitude_sentiment    5230 non-null float64\n",
      "tfidf                  5230 non-null float64\n",
      "dtypes: float64(17), object(8)\n",
      "memory usage: 1.0+ MB\n"
     ]
    }
   ],
   "source": [
    "df.info()"
   ]
  },
  {
   "cell_type": "code",
   "execution_count": 6,
   "metadata": {},
   "outputs": [
    {
     "data": {
      "text/html": [
       "<div>\n",
       "<style scoped>\n",
       "    .dataframe tbody tr th:only-of-type {\n",
       "        vertical-align: middle;\n",
       "    }\n",
       "\n",
       "    .dataframe tbody tr th {\n",
       "        vertical-align: top;\n",
       "    }\n",
       "\n",
       "    .dataframe thead th {\n",
       "        text-align: right;\n",
       "    }\n",
       "</style>\n",
       "<table border=\"1\" class=\"dataframe\">\n",
       "  <thead>\n",
       "    <tr style=\"text-align: right;\">\n",
       "      <th></th>\n",
       "      <th>Open</th>\n",
       "      <th>High</th>\n",
       "      <th>Low</th>\n",
       "      <th>Close</th>\n",
       "      <th>Volume_(BTC)</th>\n",
       "      <th>Volume_(Currency)</th>\n",
       "      <th>Weighted_Price</th>\n",
       "      <th>Average</th>\n",
       "      <th>Volatility</th>\n",
       "      <th>SD</th>\n",
       "      <th>publisherLabel</th>\n",
       "      <th>Mark</th>\n",
       "      <th>publisher_L</th>\n",
       "      <th>author_L</th>\n",
       "      <th>score_sentiment</th>\n",
       "      <th>magnitude_sentiment</th>\n",
       "      <th>tfidf</th>\n",
       "    </tr>\n",
       "  </thead>\n",
       "  <tbody>\n",
       "    <tr>\n",
       "      <th>count</th>\n",
       "      <td>5230.000000</td>\n",
       "      <td>5230.000000</td>\n",
       "      <td>5230.000000</td>\n",
       "      <td>5230.000000</td>\n",
       "      <td>5230.000000</td>\n",
       "      <td>5230.000000</td>\n",
       "      <td>5230.000000</td>\n",
       "      <td>5230.000000</td>\n",
       "      <td>5230.000000</td>\n",
       "      <td>5230.000000</td>\n",
       "      <td>5230.000000</td>\n",
       "      <td>5230.000000</td>\n",
       "      <td>5230.000000</td>\n",
       "      <td>5230.000000</td>\n",
       "      <td>5230.000000</td>\n",
       "      <td>5230.000000</td>\n",
       "      <td>5230.000000</td>\n",
       "    </tr>\n",
       "    <tr>\n",
       "      <th>mean</th>\n",
       "      <td>8173.497668</td>\n",
       "      <td>8182.096048</td>\n",
       "      <td>8164.431385</td>\n",
       "      <td>8173.431966</td>\n",
       "      <td>26.208673</td>\n",
       "      <td>202990.943936</td>\n",
       "      <td>8173.261181</td>\n",
       "      <td>10714.086879</td>\n",
       "      <td>294811.616525</td>\n",
       "      <td>1418.413051</td>\n",
       "      <td>556.758126</td>\n",
       "      <td>-0.169025</td>\n",
       "      <td>2.059273</td>\n",
       "      <td>0.976099</td>\n",
       "      <td>0.046042</td>\n",
       "      <td>0.372294</td>\n",
       "      <td>0.418431</td>\n",
       "    </tr>\n",
       "    <tr>\n",
       "      <th>std</th>\n",
       "      <td>685.404220</td>\n",
       "      <td>681.203059</td>\n",
       "      <td>689.768884</td>\n",
       "      <td>685.296043</td>\n",
       "      <td>17.034017</td>\n",
       "      <td>111038.429682</td>\n",
       "      <td>685.450264</td>\n",
       "      <td>894.469118</td>\n",
       "      <td>117377.445835</td>\n",
       "      <td>564.732500</td>\n",
       "      <td>352.050388</td>\n",
       "      <td>0.525244</td>\n",
       "      <td>1.133271</td>\n",
       "      <td>1.064564</td>\n",
       "      <td>0.476969</td>\n",
       "      <td>0.268288</td>\n",
       "      <td>0.189049</td>\n",
       "    </tr>\n",
       "    <tr>\n",
       "      <th>min</th>\n",
       "      <td>6806.927451</td>\n",
       "      <td>6826.417535</td>\n",
       "      <td>6786.712438</td>\n",
       "      <td>6807.273597</td>\n",
       "      <td>9.265880</td>\n",
       "      <td>74305.946820</td>\n",
       "      <td>6806.651598</td>\n",
       "      <td>9786.788157</td>\n",
       "      <td>180619.004500</td>\n",
       "      <td>869.003591</td>\n",
       "      <td>0.000000</td>\n",
       "      <td>-1.000000</td>\n",
       "      <td>0.000000</td>\n",
       "      <td>0.000000</td>\n",
       "      <td>-0.900000</td>\n",
       "      <td>0.000000</td>\n",
       "      <td>0.182890</td>\n",
       "    </tr>\n",
       "    <tr>\n",
       "      <th>25%</th>\n",
       "      <td>7905.440896</td>\n",
       "      <td>7917.342931</td>\n",
       "      <td>7892.443951</td>\n",
       "      <td>7905.416028</td>\n",
       "      <td>13.935292</td>\n",
       "      <td>121295.129200</td>\n",
       "      <td>7904.972491</td>\n",
       "      <td>10090.346930</td>\n",
       "      <td>192710.683500</td>\n",
       "      <td>927.179708</td>\n",
       "      <td>194.000000</td>\n",
       "      <td>0.000000</td>\n",
       "      <td>1.000000</td>\n",
       "      <td>0.000000</td>\n",
       "      <td>-0.300000</td>\n",
       "      <td>0.200000</td>\n",
       "      <td>0.283432</td>\n",
       "    </tr>\n",
       "    <tr>\n",
       "      <th>50%</th>\n",
       "      <td>8310.115639</td>\n",
       "      <td>8313.456646</td>\n",
       "      <td>8306.793611</td>\n",
       "      <td>8310.097187</td>\n",
       "      <td>19.087727</td>\n",
       "      <td>154043.483800</td>\n",
       "      <td>8310.129580</td>\n",
       "      <td>10130.017600</td>\n",
       "      <td>231620.464900</td>\n",
       "      <td>1114.384481</td>\n",
       "      <td>539.000000</td>\n",
       "      <td>0.000000</td>\n",
       "      <td>3.000000</td>\n",
       "      <td>1.000000</td>\n",
       "      <td>0.000000</td>\n",
       "      <td>0.300000</td>\n",
       "      <td>0.341760</td>\n",
       "    </tr>\n",
       "    <tr>\n",
       "      <th>75%</th>\n",
       "      <td>8617.131229</td>\n",
       "      <td>8620.755771</td>\n",
       "      <td>8613.696326</td>\n",
       "      <td>8617.348722</td>\n",
       "      <td>35.615632</td>\n",
       "      <td>297975.902000</td>\n",
       "      <td>8617.210484</td>\n",
       "      <td>11592.976650</td>\n",
       "      <td>437801.267600</td>\n",
       "      <td>2106.372331</td>\n",
       "      <td>883.000000</td>\n",
       "      <td>0.000000</td>\n",
       "      <td>3.000000</td>\n",
       "      <td>2.000000</td>\n",
       "      <td>0.400000</td>\n",
       "      <td>0.600000</td>\n",
       "      <td>0.510650</td>\n",
       "    </tr>\n",
       "    <tr>\n",
       "      <th>max</th>\n",
       "      <td>9435.828417</td>\n",
       "      <td>9441.771257</td>\n",
       "      <td>9429.061993</td>\n",
       "      <td>9435.448514</td>\n",
       "      <td>63.421083</td>\n",
       "      <td>432929.362400</td>\n",
       "      <td>9435.411315</td>\n",
       "      <td>12603.493540</td>\n",
       "      <td>452638.412200</td>\n",
       "      <td>2177.757576</td>\n",
       "      <td>1186.000000</td>\n",
       "      <td>1.000000</td>\n",
       "      <td>3.000000</td>\n",
       "      <td>3.000000</td>\n",
       "      <td>0.900000</td>\n",
       "      <td>0.900000</td>\n",
       "      <td>1.633640</td>\n",
       "    </tr>\n",
       "  </tbody>\n",
       "</table>\n",
       "</div>"
      ],
      "text/plain": [
       "              Open         High          Low        Close  Volume_(BTC)  \\\n",
       "count  5230.000000  5230.000000  5230.000000  5230.000000   5230.000000   \n",
       "mean   8173.497668  8182.096048  8164.431385  8173.431966     26.208673   \n",
       "std     685.404220   681.203059   689.768884   685.296043     17.034017   \n",
       "min    6806.927451  6826.417535  6786.712438  6807.273597      9.265880   \n",
       "25%    7905.440896  7917.342931  7892.443951  7905.416028     13.935292   \n",
       "50%    8310.115639  8313.456646  8306.793611  8310.097187     19.087727   \n",
       "75%    8617.131229  8620.755771  8613.696326  8617.348722     35.615632   \n",
       "max    9435.828417  9441.771257  9429.061993  9435.448514     63.421083   \n",
       "\n",
       "       Volume_(Currency)  Weighted_Price       Average     Volatility  \\\n",
       "count        5230.000000     5230.000000   5230.000000    5230.000000   \n",
       "mean       202990.943936     8173.261181  10714.086879  294811.616525   \n",
       "std        111038.429682      685.450264    894.469118  117377.445835   \n",
       "min         74305.946820     6806.651598   9786.788157  180619.004500   \n",
       "25%        121295.129200     7904.972491  10090.346930  192710.683500   \n",
       "50%        154043.483800     8310.129580  10130.017600  231620.464900   \n",
       "75%        297975.902000     8617.210484  11592.976650  437801.267600   \n",
       "max        432929.362400     9435.411315  12603.493540  452638.412200   \n",
       "\n",
       "                SD  publisherLabel         Mark  publisher_L     author_L  \\\n",
       "count  5230.000000     5230.000000  5230.000000  5230.000000  5230.000000   \n",
       "mean   1418.413051      556.758126    -0.169025     2.059273     0.976099   \n",
       "std     564.732500      352.050388     0.525244     1.133271     1.064564   \n",
       "min     869.003591        0.000000    -1.000000     0.000000     0.000000   \n",
       "25%     927.179708      194.000000     0.000000     1.000000     0.000000   \n",
       "50%    1114.384481      539.000000     0.000000     3.000000     1.000000   \n",
       "75%    2106.372331      883.000000     0.000000     3.000000     2.000000   \n",
       "max    2177.757576     1186.000000     1.000000     3.000000     3.000000   \n",
       "\n",
       "       score_sentiment  magnitude_sentiment        tfidf  \n",
       "count      5230.000000          5230.000000  5230.000000  \n",
       "mean          0.046042             0.372294     0.418431  \n",
       "std           0.476969             0.268288     0.189049  \n",
       "min          -0.900000             0.000000     0.182890  \n",
       "25%          -0.300000             0.200000     0.283432  \n",
       "50%           0.000000             0.300000     0.341760  \n",
       "75%           0.400000             0.600000     0.510650  \n",
       "max           0.900000             0.900000     1.633640  "
      ]
     },
     "execution_count": 6,
     "metadata": {},
     "output_type": "execute_result"
    }
   ],
   "source": [
    "df.describe()"
   ]
  },
  {
   "cell_type": "markdown",
   "metadata": {},
   "source": [
    "# Setup Training and Validation Sets"
   ]
  },
  {
   "cell_type": "code",
   "execution_count": 7,
   "metadata": {},
   "outputs": [
    {
     "name": "stdout",
     "output_type": "stream",
     "text": [
      "(5230, 5) (5230,)\n",
      "(4184, 5) (4184,)\n",
      "(1046, 5) (1046,)\n"
     ]
    }
   ],
   "source": [
    "X=df[['publisher_L','author_L','score_sentiment','magnitude_sentiment','tfidf']]\n",
    "Y=df['Mark']\n",
    "\n",
    "print(X.shape, Y.shape)\n",
    "\n",
    "np.random.seed(2) # set random seed for reproducibility\n",
    "\n",
    "from sklearn.model_selection import train_test_split\n",
    "\n",
    "X_train, X_val, Y_train, Y_val = train_test_split(X, Y, test_size=0.2,random_state=2)\n",
    "\n",
    "print(X_train.shape, Y_train.shape)\n",
    "print(X_val.shape, Y_val.shape)\n",
    "\n",
    "from sklearn.linear_model import LogisticRegression\n",
    "from sklearn.svm import SVC, LinearSVC\n",
    "from sklearn.ensemble import RandomForestClassifier\n",
    "from sklearn.neighbors import KNeighborsClassifier\n",
    "from sklearn.naive_bayes import GaussianNB # Gaussian Naive Bayes\n",
    "from sklearn.linear_model import Perceptron\n",
    "from sklearn.tree import DecisionTreeClassifier"
   ]
  },
  {
   "cell_type": "code",
   "execution_count": 8,
   "metadata": {},
   "outputs": [
    {
     "data": {
      "text/plain": [
       " 0.0    3638\n",
       "-1.0    1238\n",
       " 1.0     354\n",
       "Name: Mark, dtype: int64"
      ]
     },
     "execution_count": 8,
     "metadata": {},
     "output_type": "execute_result"
    }
   ],
   "source": [
    "# label counts of different categories\n",
    "Y.value_counts()"
   ]
  },
  {
   "cell_type": "markdown",
   "metadata": {},
   "source": [
    "## 1. Logistic Regression"
   ]
  },
  {
   "cell_type": "code",
   "execution_count": 9,
   "metadata": {},
   "outputs": [
    {
     "name": "stdout",
     "output_type": "stream",
     "text": [
      "Logistic Regression using built-in method: 70.75 %\n"
     ]
    }
   ],
   "source": [
    "logreg = LogisticRegression()                                # instantiate\n",
    "logreg.fit(X_train, Y_train)                                 # fit\n",
    "Y_pred_log = logreg.predict(X_val)                           # predict\n",
    "Y_proba_log = logreg.predict_proba(X_val)\n",
    "\n",
    "acc_log_2 = logreg.score(X_val, Y_val)                       # evaluate\n",
    "print('Logistic Regression using built-in method:', str(round(acc_log_2*100,2)),'%')"
   ]
  },
  {
   "cell_type": "markdown",
   "metadata": {},
   "source": [
    "## 2. KNN"
   ]
  },
  {
   "cell_type": "code",
   "execution_count": 10,
   "metadata": {},
   "outputs": [
    {
     "name": "stdout",
     "output_type": "stream",
     "text": [
      "K-Nearest Neighbors labeling accuracy: 67.69 %\n"
     ]
    }
   ],
   "source": [
    "knn = KNeighborsClassifier(n_neighbors = 10)                  # instantiate\n",
    "knn.fit(X_train, Y_train)                                    # fit\n",
    "acc_knn = knn.score(X_val, Y_val)                            # predict + evaluate\n",
    "prob_knn=knn.predict_proba(X_val)\n",
    "\n",
    "print('K-Nearest Neighbors labeling accuracy:', str(round(acc_knn*100,2)),'%')"
   ]
  },
  {
   "cell_type": "markdown",
   "metadata": {},
   "source": [
    "## 3. SVM"
   ]
  },
  {
   "cell_type": "code",
   "execution_count": 11,
   "metadata": {},
   "outputs": [
    {
     "name": "stdout",
     "output_type": "stream",
     "text": [
      "Support Vector Machines labeling accuracy: 70.75 %\n"
     ]
    }
   ],
   "source": [
    "# Support Vector Machines Classifier (non-linear kernel)\n",
    "import sklearn\n",
    "svc = SVC(probability=True)                                                  # instantiate\n",
    "svc.fit(X_train, Y_train)                                    # fit\n",
    "acc_svc = svc.score(X_val, Y_val)                            # predict + evaluate\n",
    "\n",
    "prob_svm=svc.predict_proba(X_val)\n",
    "#Y_proba_svm=sklearn.svm.libsvm.predict_proba()\n",
    "print('Support Vector Machines labeling accuracy:', str(round(acc_svc*100,2)),'%')"
   ]
  },
  {
   "cell_type": "markdown",
   "metadata": {},
   "source": [
    "## 4. Perceptron"
   ]
  },
  {
   "cell_type": "code",
   "execution_count": 12,
   "metadata": {},
   "outputs": [
    {
     "name": "stdout",
     "output_type": "stream",
     "text": [
      "Perceptron labeling accuracy: 70.75 %\n"
     ]
    },
    {
     "name": "stderr",
     "output_type": "stream",
     "text": [
      "/anaconda3/lib/python3.6/site-packages/sklearn/linear_model/stochastic_gradient.py:128: FutureWarning: max_iter and tol parameters have been added in <class 'sklearn.linear_model.perceptron.Perceptron'> in 0.19. If both are left unset, they default to max_iter=5 and tol=None. If tol is not None, max_iter defaults to max_iter=1000. From 0.21, default max_iter will be 1000, and default tol will be 1e-3.\n",
      "  \"and default tol will be 1e-3.\" % type(self), FutureWarning)\n"
     ]
    }
   ],
   "source": [
    "perceptron = Perceptron()                                    # instantiate \n",
    "perceptron.fit(X_train, Y_train)                             # fit\n",
    "acc_perceptron = perceptron.score(X_val, Y_val)              # predict + evalaute\n",
    "\n",
    "print('Perceptron labeling accuracy:', str(round(acc_perceptron*100,2)),'%')"
   ]
  },
  {
   "cell_type": "markdown",
   "metadata": {},
   "source": [
    "## 5. Random Forest"
   ]
  },
  {
   "cell_type": "code",
   "execution_count": 14,
   "metadata": {},
   "outputs": [
    {
     "name": "stdout",
     "output_type": "stream",
     "text": [
      "Random Forest labeling accuracy: 87.0 %\n",
      "[ 0. -1. -1. ...  0.  0.  0.]\n"
     ]
    }
   ],
   "source": [
    "# Random Forest\n",
    "random_forest = RandomForestClassifier(n_estimators=1000)   # instantiate\n",
    "random_forest.fit(X_train, Y_train)                         # fit\n",
    "acc_rf = random_forest.score(X_val, Y_val)                  # predict + evaluate\n",
    "\n",
    "print('Random Forest labeling accuracy:', str(round(acc_rf*100,2)),'%')\n",
    "\n",
    "predicted5=random_forest.predict(X_val)\n",
    "prob_random=random_forest.predict_proba(X_val)\n",
    "\n",
    "print(predicted5)"
   ]
  },
  {
   "cell_type": "markdown",
   "metadata": {},
   "source": [
    "## 6. XGBoost"
   ]
  },
  {
   "cell_type": "code",
   "execution_count": 13,
   "metadata": {},
   "outputs": [],
   "source": []
  },
  {
   "cell_type": "code",
   "execution_count": 13,
   "metadata": {},
   "outputs": [
    {
     "name": "stdout",
     "output_type": "stream",
     "text": [
      "XGBoost labeling accuracy: 76.39 %\n"
     ]
    },
    {
     "name": "stderr",
     "output_type": "stream",
     "text": [
      "/anaconda3/lib/python3.6/site-packages/sklearn/preprocessing/label.py:151: DeprecationWarning: The truth value of an empty array is ambiguous. Returning False, but in future this will result in an error. Use `array.size > 0` to check that an array is not empty.\n",
      "  if diff:\n"
     ]
    }
   ],
   "source": [
    "import xgboost as xgb\n",
    "# XGBoost, same API as scikit-learn\n",
    "gradboost = xgb.XGBClassifier(n_estimators=1000)             # instantiate\n",
    "gradboost.fit(X_train, Y_train)                              # fit\n",
    "acc_xgboost = gradboost.score(X_val, Y_val)                  # predict + evalute\n",
    "\n",
    "print('XGBoost labeling accuracy:', str(round(acc_xgboost*100,2)),'%')"
   ]
  },
  {
   "cell_type": "markdown",
   "metadata": {},
   "source": [
    "## 7.1. ROC_AUC with LogisticReg"
   ]
  },
  {
   "cell_type": "code",
   "execution_count": 47,
   "metadata": {},
   "outputs": [
    {
     "data": {
      "image/png": "[encoded data removed]",
      "text/plain": [
       "<Figure size 432x288 with 1 Axes>"
      ]
     },
     "metadata": {},
     "output_type": "display_data"
    }
   ],
   "source": [
    "import sklearn\n",
    "\n",
    "import scikitplot as skplt\n",
    "import matplotlib.pyplot as plt\n",
    "\n",
    "skplt.metrics.plot_roc(Y_val, Y_proba_log)\n",
    "plt.show()"
   ]
  },
  {
   "cell_type": "markdown",
   "metadata": {},
   "source": [
    "## 7.2. ROC_AUC with SVM"
   ]
  },
  {
   "cell_type": "code",
   "execution_count": 50,
   "metadata": {},
   "outputs": [
    {
     "data": {
      "image/png": "[encoded data removed]",
      "text/plain": [
       "<Figure size 432x288 with 1 Axes>"
      ]
     },
     "metadata": {},
     "output_type": "display_data"
    }
   ],
   "source": [
    "skplt.metrics.plot_roc(Y_val, prob_svm)\n",
    "plt.show()"
   ]
  },
  {
   "cell_type": "code",
   "execution_count": 53,
   "metadata": {},
   "outputs": [
    {
     "data": {
      "image/png": "[encoded data removed]",
      "text/plain": [
       "<Figure size 432x288 with 1 Axes>"
      ]
     },
     "metadata": {},
     "output_type": "display_data"
    }
   ],
   "source": [
    "skplt.metrics.plot_roc(Y_val, prob_knn)\n",
    "plt.show()"
   ]
  },
  {
   "cell_type": "code",
   "execution_count": 54,
   "metadata": {},
   "outputs": [
    {
     "data": {
      "image/png": "[encoded data removed]",
      "text/plain": [
       "<Figure size 432x288 with 1 Axes>"
      ]
     },
     "metadata": {},
     "output_type": "display_data"
    }
   ],
   "source": [
    "skplt.metrics.plot_roc(Y_val, prob_random)\n",
    "plt.show()"
   ]
  },
  {
   "cell_type": "code",
   "execution_count": null,
   "metadata": {},
   "outputs": [],
   "source": []
  }
 ],
 "metadata": {
  "kernelspec": {
   "display_name": "Python 3",
   "language": "python",
   "name": "python3"
  },
  "language_info": {
   "codemirror_mode": {
    "name": "ipython",
    "version": 3
   },
   "file_extension": ".py",
   "mimetype": "text/x-python",
   "name": "python",
   "nbconvert_exporter": "python",
   "pygments_lexer": "ipython3",
   "version": "3.6.5"
  }
 },
 "nbformat": 4,
 "nbformat_minor": 2
}
