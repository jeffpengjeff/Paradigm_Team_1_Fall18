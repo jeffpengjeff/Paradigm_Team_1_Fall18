{
 "cells": [
  {
   "cell_type": "markdown",
   "metadata": {},
   "source": [
    "# Google Cloud API  windows"
   ]
  },
  {
   "cell_type": "markdown",
   "metadata": {},
   "source": [
    "## 1. Create an account in Google"
   ]
  },
  {
   "cell_type": "markdown",
   "metadata": {},
   "source": [
    "## 2. Create a project using Language API"
   ]
  },
  {
   "cell_type": "markdown",
   "metadata": {},
   "source": [
    "### This link provide guidence of :\n",
    "#### (1) installing the clinet library\n",
    "#### (2) Setting up authentication -- Download the JSON file and store the PATH\n",
    "#### (3) Set the PATH in Windows OR MAC version -- no \"\" in Windows using Command\n",
    "#### (4) Test the Example\n",
    "\n",
    "### LINK:\n",
    "https://cloud.google.com/natural-language/docs/reference/libraries#client-libraries-usage-python"
   ]
  },
  {
   "cell_type": "markdown",
   "metadata": {},
   "source": [
    "### Example of setting PATH IN MAC"
   ]
  },
  {
   "cell_type": "markdown",
   "metadata": {},
   "source": [
    "export GOOGLE_APPLICATION_CREDENTIALS=\"/home/user/Downloads/[FILE_NAME].json\""
   ]
  },
  {
   "cell_type": "markdown",
   "metadata": {},
   "source": [
    "### Example of setting PATH IN Windows"
   ]
  },
  {
   "cell_type": "markdown",
   "metadata": {},
   "source": [
    "set GOOGLE_APPLICATION_CREDENTIALS=C:\\Users\\zhuwe\\Downloads\\SentimentAnalysisParadigm-8f018ac0a834.json"
   ]
  },
  {
   "cell_type": "markdown",
   "metadata": {},
   "source": [
    "## 3.Set the environment "
   ]
  },
  {
   "cell_type": "code",
   "execution_count": 16,
   "metadata": {},
   "outputs": [
    {
     "name": "stdout",
     "output_type": "stream",
     "text": [
      "Requirement already up-to-date: google-cloud-language in c:\\users\\zhuwe\\appdata\\local\\continuum\\anaconda3\\envs\\tensorflow\\lib\\site-packages (1.1.0)\n",
      "Requirement already satisfied, skipping upgrade: google-api-core[grpc]<2.0.0dev,>=0.1.1 in c:\\users\\zhuwe\\appdata\\local\\continuum\\anaconda3\\envs\\tensorflow\\lib\\site-packages (from google-cloud-language) (1.5.0)\n",
      "Requirement already satisfied, skipping upgrade: google-auth<2.0.0dev,>=0.4.0 in c:\\users\\zhuwe\\appdata\\local\\continuum\\anaconda3\\envs\\tensorflow\\lib\\site-packages (from google-api-core[grpc]<2.0.0dev,>=0.1.1->google-cloud-language) (1.5.1)\n",
      "Requirement already satisfied, skipping upgrade: protobuf>=3.4.0 in c:\\users\\zhuwe\\appdata\\local\\continuum\\anaconda3\\envs\\tensorflow\\lib\\site-packages (from google-api-core[grpc]<2.0.0dev,>=0.1.1->google-cloud-language) (3.6.1)\n",
      "Requirement already satisfied, skipping upgrade: six>=1.10.0 in c:\\users\\zhuwe\\appdata\\local\\continuum\\anaconda3\\envs\\tensorflow\\lib\\site-packages (from google-api-core[grpc]<2.0.0dev,>=0.1.1->google-cloud-language) (1.11.0)\n",
      "Requirement already satisfied, skipping upgrade: googleapis-common-protos<2.0dev,>=1.5.3 in c:\\users\\zhuwe\\appdata\\local\\continuum\\anaconda3\\envs\\tensorflow\\lib\\site-packages (from google-api-core[grpc]<2.0.0dev,>=0.1.1->google-cloud-language) (1.5.3)\n",
      "Requirement already satisfied, skipping upgrade: pytz in c:\\users\\zhuwe\\appdata\\local\\continuum\\anaconda3\\envs\\tensorflow\\lib\\site-packages (from google-api-core[grpc]<2.0.0dev,>=0.1.1->google-cloud-language) (2018.5)\n",
      "Requirement already satisfied, skipping upgrade: setuptools>=34.0.0 in c:\\users\\zhuwe\\appdata\\local\\continuum\\anaconda3\\envs\\tensorflow\\lib\\site-packages (from google-api-core[grpc]<2.0.0dev,>=0.1.1->google-cloud-language) (39.1.0)\n",
      "Requirement already satisfied, skipping upgrade: requests<3.0.0dev,>=2.18.0 in c:\\users\\zhuwe\\appdata\\local\\continuum\\anaconda3\\envs\\tensorflow\\lib\\site-packages (from google-api-core[grpc]<2.0.0dev,>=0.1.1->google-cloud-language) (2.20.0)\n",
      "Requirement already satisfied, skipping upgrade: grpcio>=1.8.2; extra == \"grpc\" in c:\\users\\zhuwe\\appdata\\local\\continuum\\anaconda3\\envs\\tensorflow\\lib\\site-packages (from google-api-core[grpc]<2.0.0dev,>=0.1.1->google-cloud-language) (1.14.1)\n",
      "Requirement already satisfied, skipping upgrade: rsa>=3.1.4 in c:\\users\\zhuwe\\appdata\\local\\continuum\\anaconda3\\envs\\tensorflow\\lib\\site-packages (from google-auth<2.0.0dev,>=0.4.0->google-api-core[grpc]<2.0.0dev,>=0.1.1->google-cloud-language) (4.0)\n",
      "Requirement already satisfied, skipping upgrade: pyasn1-modules>=0.2.1 in c:\\users\\zhuwe\\appdata\\local\\continuum\\anaconda3\\envs\\tensorflow\\lib\\site-packages (from google-auth<2.0.0dev,>=0.4.0->google-api-core[grpc]<2.0.0dev,>=0.1.1->google-cloud-language) (0.2.2)\n",
      "Requirement already satisfied, skipping upgrade: cachetools>=2.0.0 in c:\\users\\zhuwe\\appdata\\local\\continuum\\anaconda3\\envs\\tensorflow\\lib\\site-packages (from google-auth<2.0.0dev,>=0.4.0->google-api-core[grpc]<2.0.0dev,>=0.1.1->google-cloud-language) (2.1.0)\n",
      "Requirement already satisfied, skipping upgrade: idna<2.8,>=2.5 in c:\\users\\zhuwe\\appdata\\local\\continuum\\anaconda3\\envs\\tensorflow\\lib\\site-packages (from requests<3.0.0dev,>=2.18.0->google-api-core[grpc]<2.0.0dev,>=0.1.1->google-cloud-language) (2.5)\n",
      "Requirement already satisfied, skipping upgrade: certifi>=2017.4.17 in c:\\users\\zhuwe\\appdata\\local\\continuum\\anaconda3\\envs\\tensorflow\\lib\\site-packages (from requests<3.0.0dev,>=2.18.0->google-api-core[grpc]<2.0.0dev,>=0.1.1->google-cloud-language) (2018.8.24)\n",
      "Requirement already satisfied, skipping upgrade: chardet<3.1.0,>=3.0.2 in c:\\users\\zhuwe\\appdata\\local\\continuum\\anaconda3\\envs\\tensorflow\\lib\\site-packages (from requests<3.0.0dev,>=2.18.0->google-api-core[grpc]<2.0.0dev,>=0.1.1->google-cloud-language) (3.0.4)\n",
      "Requirement already satisfied, skipping upgrade: urllib3<1.25,>=1.21.1 in c:\\users\\zhuwe\\appdata\\local\\continuum\\anaconda3\\envs\\tensorflow\\lib\\site-packages (from requests<3.0.0dev,>=2.18.0->google-api-core[grpc]<2.0.0dev,>=0.1.1->google-cloud-language) (1.21.1)\n",
      "Requirement already satisfied, skipping upgrade: pyasn1>=0.1.3 in c:\\users\\zhuwe\\appdata\\local\\continuum\\anaconda3\\envs\\tensorflow\\lib\\site-packages (from rsa>=3.1.4->google-auth<2.0.0dev,>=0.4.0->google-api-core[grpc]<2.0.0dev,>=0.1.1->google-cloud-language) (0.4.4)\n"
     ]
    }
   ],
   "source": [
    "! pip install --upgrade google-cloud-language"
   ]
  },
  {
   "cell_type": "code",
   "execution_count": 20,
   "metadata": {
    "scrolled": true
   },
   "outputs": [
    {
     "name": "stdout",
     "output_type": "stream",
     "text": [
      "Requirement already up-to-date: google-api-python-client in c:\\users\\zhuwe\\appdata\\local\\continuum\\anaconda3\\envs\\tensorflow\\lib\\site-packages (1.7.4)\n",
      "Requirement already satisfied, skipping upgrade: six<2dev,>=1.6.1 in c:\\users\\zhuwe\\appdata\\local\\continuum\\anaconda3\\envs\\tensorflow\\lib\\site-packages (from google-api-python-client) (1.11.0)\n",
      "Requirement already satisfied, skipping upgrade: google-auth>=1.4.1 in c:\\users\\zhuwe\\appdata\\local\\continuum\\anaconda3\\envs\\tensorflow\\lib\\site-packages (from google-api-python-client) (1.5.1)\n",
      "Requirement already satisfied, skipping upgrade: uritemplate<4dev,>=3.0.0 in c:\\users\\zhuwe\\appdata\\local\\continuum\\anaconda3\\envs\\tensorflow\\lib\\site-packages (from google-api-python-client) (3.0.0)\n",
      "Requirement already satisfied, skipping upgrade: google-auth-httplib2>=0.0.3 in c:\\users\\zhuwe\\appdata\\local\\continuum\\anaconda3\\envs\\tensorflow\\lib\\site-packages (from google-api-python-client) (0.0.3)\n",
      "Requirement already satisfied, skipping upgrade: httplib2<1dev,>=0.9.2 in c:\\users\\zhuwe\\appdata\\local\\continuum\\anaconda3\\envs\\tensorflow\\lib\\site-packages (from google-api-python-client) (0.11.3)\n",
      "Requirement already satisfied, skipping upgrade: rsa>=3.1.4 in c:\\users\\zhuwe\\appdata\\local\\continuum\\anaconda3\\envs\\tensorflow\\lib\\site-packages (from google-auth>=1.4.1->google-api-python-client) (4.0)\n",
      "Requirement already satisfied, skipping upgrade: pyasn1-modules>=0.2.1 in c:\\users\\zhuwe\\appdata\\local\\continuum\\anaconda3\\envs\\tensorflow\\lib\\site-packages (from google-auth>=1.4.1->google-api-python-client) (0.2.2)\n",
      "Requirement already satisfied, skipping upgrade: cachetools>=2.0.0 in c:\\users\\zhuwe\\appdata\\local\\continuum\\anaconda3\\envs\\tensorflow\\lib\\site-packages (from google-auth>=1.4.1->google-api-python-client) (2.1.0)\n",
      "Requirement already satisfied, skipping upgrade: pyasn1>=0.1.3 in c:\\users\\zhuwe\\appdata\\local\\continuum\\anaconda3\\envs\\tensorflow\\lib\\site-packages (from rsa>=3.1.4->google-auth>=1.4.1->google-api-python-client) (0.4.4)\n"
     ]
    }
   ],
   "source": [
    "! pip install --upgrade google-api-python-client"
   ]
  },
  {
   "cell_type": "markdown",
   "metadata": {},
   "source": [
    "## 4. Example"
   ]
  },
  {
   "cell_type": "code",
   "execution_count": 8,
   "metadata": {},
   "outputs": [
    {
     "name": "stdout",
     "output_type": "stream",
     "text": [
      "Text: Hello, world!\n",
      "Sentiment: 0.30000001192092896, 0.30000001192092896\n"
     ]
    }
   ],
   "source": [
    "# Imports the Google Cloud client library\n",
    "from google.cloud import language\n",
    "from google.cloud.language import enums\n",
    "from google.cloud.language import types\n",
    "\n",
    "# Instantiates a client\n",
    "client = language.LanguageServiceClient()\n",
    "\n",
    "# The text to analyze\n",
    "text = u'Hello, world!'\n",
    "document = types.Document(\n",
    "    content=text,\n",
    "    type=enums.Document.Type.PLAIN_TEXT)\n",
    "\n",
    "# Detects the sentiment of the text\n",
    "sentiment = client.analyze_sentiment(document=document).document_sentiment\n",
    "\n",
    "print('Text: {}'.format(text))\n",
    "print('Sentiment: {}, {}'.format(sentiment.score, sentiment.magnitude))"
   ]
  },
  {
   "cell_type": "code",
   "execution_count": 3,
   "metadata": {},
   "outputs": [],
   "source": [
    "def gc_sentiment(text):  \n",
    "    from google.cloud import language\n",
    "    \n",
    "    client = language.LanguageServiceClient()\n",
    "    document = language.types.Document(\n",
    "            content=text,\n",
    "            type=language.enums.Document.Type.PLAIN_TEXT)\n",
    "    annotations = client.analyze_sentiment(document=document)\n",
    "    score = annotations.document_sentiment.score\n",
    "    magnitude = annotations.document_sentiment.magnitude\n",
    "    return score, magnitude"
   ]
  },
  {
   "cell_type": "code",
   "execution_count": 4,
   "metadata": {},
   "outputs": [
    {
     "name": "stderr",
     "output_type": "stream",
     "text": [
      "100%|███████████████████████████████████████████████████████████████| 10/10 [00:02<00:00,  3.46it/s]\n"
     ]
    }
   ],
   "source": [
    "from tqdm import tqdm # This is an awesome package for tracking for loops\n",
    "import pandas as pd\n",
    "gc_results = [gc_sentiment(row) for row in tqdm(dataset, ncols = 100)]\n",
    "gc_score, gc_magnitude = zip(*gc_results) # Unpacking the result into 2 lists\n",
    "gc = list(zip(dataset, gc_score, gc_magnitude))\n",
    "columns = ['text', 'score', 'magnitude']\n",
    "gc_df = pd.DataFrame(gc, columns = columns)"
   ]
  },
  {
   "cell_type": "code",
   "execution_count": 5,
   "metadata": {},
   "outputs": [
    {
     "data": {
      "text/html": [
       "<div>\n",
       "<style scoped>\n",
       "    .dataframe tbody tr th:only-of-type {\n",
       "        vertical-align: middle;\n",
       "    }\n",
       "\n",
       "    .dataframe tbody tr th {\n",
       "        vertical-align: top;\n",
       "    }\n",
       "\n",
       "    .dataframe thead th {\n",
       "        text-align: right;\n",
       "    }\n",
       "</style>\n",
       "<table border=\"1\" class=\"dataframe\">\n",
       "  <thead>\n",
       "    <tr style=\"text-align: right;\">\n",
       "      <th></th>\n",
       "      <th>text</th>\n",
       "      <th>score</th>\n",
       "      <th>magnitude</th>\n",
       "    </tr>\n",
       "  </thead>\n",
       "  <tbody>\n",
       "    <tr>\n",
       "      <th>0</th>\n",
       "      <td>Food is good and not too expensive. Serving is...</td>\n",
       "      <td>0.4</td>\n",
       "      <td>1.4</td>\n",
       "    </tr>\n",
       "    <tr>\n",
       "      <th>1</th>\n",
       "      <td>Used to be good. Chicken soup was below averag...</td>\n",
       "      <td>-0.5</td>\n",
       "      <td>1.1</td>\n",
       "    </tr>\n",
       "    <tr>\n",
       "      <th>2</th>\n",
       "      <td>Food was good, standouts were the spicy beef s...</td>\n",
       "      <td>0.6</td>\n",
       "      <td>0.6</td>\n",
       "    </tr>\n",
       "    <tr>\n",
       "      <th>3</th>\n",
       "      <td>Good office lunch or after work place to go to...</td>\n",
       "      <td>0.8</td>\n",
       "      <td>0.8</td>\n",
       "    </tr>\n",
       "    <tr>\n",
       "      <th>4</th>\n",
       "      <td>As a Korean person, it was very disappointing ...</td>\n",
       "      <td>-0.5</td>\n",
       "      <td>1.1</td>\n",
       "    </tr>\n",
       "    <tr>\n",
       "      <th>5</th>\n",
       "      <td>Not great quality food for the price. Average ...</td>\n",
       "      <td>-0.6</td>\n",
       "      <td>1.3</td>\n",
       "    </tr>\n",
       "    <tr>\n",
       "      <th>6</th>\n",
       "      <td>Fast service. Prices are reasonable and food i...</td>\n",
       "      <td>0.9</td>\n",
       "      <td>1.8</td>\n",
       "    </tr>\n",
       "    <tr>\n",
       "      <th>7</th>\n",
       "      <td>Extremely long waiting time. Food is decent bu...</td>\n",
       "      <td>-0.6</td>\n",
       "      <td>1.3</td>\n",
       "    </tr>\n",
       "    <tr>\n",
       "      <th>8</th>\n",
       "      <td>Clean premises, tasty food. My family favourit...</td>\n",
       "      <td>0.9</td>\n",
       "      <td>1.8</td>\n",
       "    </tr>\n",
       "    <tr>\n",
       "      <th>9</th>\n",
       "      <td>really good and authentic Thai food! in partic...</td>\n",
       "      <td>0.9</td>\n",
       "      <td>2.7</td>\n",
       "    </tr>\n",
       "  </tbody>\n",
       "</table>\n",
       "</div>"
      ],
      "text/plain": [
       "                                                text  score  magnitude\n",
       "0  Food is good and not too expensive. Serving is...    0.4        1.4\n",
       "1  Used to be good. Chicken soup was below averag...   -0.5        1.1\n",
       "2  Food was good, standouts were the spicy beef s...    0.6        0.6\n",
       "3  Good office lunch or after work place to go to...    0.8        0.8\n",
       "4  As a Korean person, it was very disappointing ...   -0.5        1.1\n",
       "5  Not great quality food for the price. Average ...   -0.6        1.3\n",
       "6  Fast service. Prices are reasonable and food i...    0.9        1.8\n",
       "7  Extremely long waiting time. Food is decent bu...   -0.6        1.3\n",
       "8  Clean premises, tasty food. My family favourit...    0.9        1.8\n",
       "9  really good and authentic Thai food! in partic...    0.9        2.7"
      ]
     },
     "execution_count": 5,
     "metadata": {},
     "output_type": "execute_result"
    }
   ],
   "source": [
    "gc_df"
   ]
  },
  {
   "cell_type": "code",
   "execution_count": null,
   "metadata": {},
   "outputs": [],
   "source": []
  }
 ],
 "metadata": {
  "kernelspec": {
   "display_name": "Python 3",
   "language": "python",
   "name": "python3"
  },
  "language_info": {
   "codemirror_mode": {
    "name": "ipython",
    "version": 3
   },
   "file_extension": ".py",
   "mimetype": "text/x-python",
   "name": "python",
   "nbconvert_exporter": "python",
   "pygments_lexer": "ipython3",
   "version": "3.5.5"
  }
 },
 "nbformat": 4,
 "nbformat_minor": 2
}
